{
  "nbformat": 4,
  "nbformat_minor": 0,
  "metadata": {
    "colab": {
      "provenance": []
    },
    "kernelspec": {
      "name": "python3",
      "display_name": "Python 3"
    },
    "language_info": {
      "name": "python"
    }
  },
  "cells": [
    {
      "cell_type": "code",
      "execution_count": null,
      "metadata": {
        "id": "UsDlPdy5goIC"
      },
      "outputs": [],
      "source": []
    },
    {
      "cell_type": "markdown",
      "source": [
        "1.Generate a list of 100 integers containing values between 90 to 130 and store it in the variable `int_list`.\n",
        "After generating the list, find the following:"
      ],
      "metadata": {
        "id": "j9NdAki_gqO2"
      }
    },
    {
      "cell_type": "markdown",
      "source": [
        "  (i) Write a Python function to calculate the mean of a given list of numbers.\n",
        "\n",
        "Create a function to find the median of a list of numbers"
      ],
      "metadata": {
        "id": "vKp2hJGIg9ST"
      }
    },
    {
      "cell_type": "code",
      "source": [
        "import random\n",
        "\n",
        "# Generate a list of 100 integers between 90 and 130 with replacement\n",
        "int_list = [random.randint(90, 130) for _ in range(100)]\n",
        "\n",
        "# Function to calculate the mean of a list\n",
        "def calculate_mean(numbers):\n",
        "    return sum(numbers) / len(numbers)\n",
        "\n",
        "# Function to calculate the median of a list\n",
        "def calculate_median(numbers):\n",
        "    sorted_list = sorted(numbers)\n",
        "    mid = len(sorted_list) // 2\n",
        "    if len(sorted_list) % 2 == 0:\n",
        "        return (sorted_list[mid - 1] + sorted_list[mid]) / 2\n",
        "    else:\n",
        "        return sorted_list[mid]\n",
        "\n",
        "# Calculate mean and median\n",
        "mean = calculate_mean(int_list)\n",
        "median = calculate_median(int_list)\n",
        "\n",
        "print(\"Mean:\", mean)\n",
        "print(\"Median:\", median)\n"
      ],
      "metadata": {
        "colab": {
          "base_uri": "https://localhost:8080/"
        },
        "id": "wjbU8-iJg5jk",
        "outputId": "af5628e8-08d7-4759-924e-7ab28191a6ea"
      },
      "execution_count": null,
      "outputs": [
        {
          "output_type": "stream",
          "name": "stdout",
          "text": [
            "Mean: 109.65\n",
            "Median: 108.0\n"
          ]
        }
      ]
    },
    {
      "cell_type": "markdown",
      "source": [
        "  (ii) Develop a program to compute the mode of a list of integers."
      ],
      "metadata": {
        "id": "aUsSI047hpgg"
      }
    },
    {
      "cell_type": "code",
      "source": [
        "from collections import Counter\n",
        "\n",
        "# Function to calculate the mode of a list\n",
        "def calculate_mode(numbers):\n",
        "    # Count the frequency of each number in the list\n",
        "    frequency = Counter(numbers)\n",
        "    # Find the maximum frequency\n",
        "    max_count = max(frequency.values())\n",
        "    # Find the mode(s) - number(s) that appear the most\n",
        "    modes = [num for num, count in frequency.items() if count == max_count]\n",
        "\n",
        "    # If there is only one mode, return it, else return the list of modes\n",
        "    if len(modes) == 1:\n",
        "        return modes[0]\n",
        "    else:\n",
        "        return modes\n",
        "\n",
        "# Example usage\n",
        "int_list = [random.randint(90, 130) for _ in range(100)]  # Generating random numbers\n",
        "mode = calculate_mode(int_list)\n",
        "\n",
        "print(\"Mode:\", mode)\n"
      ],
      "metadata": {
        "colab": {
          "base_uri": "https://localhost:8080/"
        },
        "id": "PONsA2XChoO9",
        "outputId": "0030c6a6-f28b-488a-ff44-47ebbc078855"
      },
      "execution_count": null,
      "outputs": [
        {
          "output_type": "stream",
          "name": "stdout",
          "text": [
            "Mode: [114, 105]\n"
          ]
        }
      ]
    },
    {
      "cell_type": "markdown",
      "source": [
        "  (iii) Implement a function to calculate the weighted mean of a list of values and their corresponding weights."
      ],
      "metadata": {
        "id": "qLUa5yX1h8zE"
      }
    },
    {
      "cell_type": "code",
      "source": [
        "def calculate_weighted_mean(values, weights):\n",
        "    # Ensure that the lengths of the values and weights lists are the same\n",
        "    if len(values) != len(weights):\n",
        "        raise ValueError(\"The number of values and weights must be the same\")\n",
        "\n",
        "    # Calculate the weighted sum of values\n",
        "    weighted_sum = sum(value * weight for value, weight in zip(values, weights))\n",
        "\n",
        "    # Calculate the sum of the weights\n",
        "    total_weight = sum(weights)\n",
        "\n",
        "    # Calculate the weighted mean\n",
        "    weighted_mean = weighted_sum / total_weight\n",
        "\n",
        "    return weighted_mean\n",
        "\n",
        "# Example usage\n",
        "values = [85, 90, 95, 100, 110]  # Example values\n",
        "weights = [1, 2, 3, 4, 5]        # Corresponding weights\n",
        "\n",
        "weighted_mean = calculate_weighted_mean(values, weights)\n",
        "\n",
        "print(\"Weighted Mean:\", weighted_mean)\n"
      ],
      "metadata": {
        "colab": {
          "base_uri": "https://localhost:8080/"
        },
        "id": "oW3nlsRIh7Rc",
        "outputId": "8d9b973b-de01-411c-f995-8c7efbe7a967"
      },
      "execution_count": null,
      "outputs": [
        {
          "output_type": "stream",
          "name": "stdout",
          "text": [
            "Weighted Mean: 100.0\n"
          ]
        }
      ]
    },
    {
      "cell_type": "markdown",
      "source": [
        " (iv) Write a Python function to find the geometric mean of a list of positive numbers.\n"
      ],
      "metadata": {
        "id": "bDJbFwvHiZV4"
      }
    },
    {
      "cell_type": "code",
      "source": [
        "import math\n",
        "\n",
        "def calculate_geometric_mean(numbers):\n",
        "    # Ensuring all numbers are positive\n",
        "    if any(n <= 0 for n in numbers):\n",
        "        raise ValueError(\"Geometric mean is only defined for positive numbers.\")\n",
        "\n",
        "    # Calculating the product of all the numbers\n",
        "    product = 1\n",
        "    for num in numbers:\n",
        "        product *= num\n",
        "\n",
        "    # Calculating the n-th root of the product (geometric mean)\n",
        "    geometric_mean = product ** (1 / len(numbers))\n",
        "\n",
        "    return geometric_mean\n",
        "\n",
        "# Example usage\n",
        "numbers = [4, 5, 6, 7]  # Example list of positive numbers\n",
        "geo_mean = calculate_geometric_mean(numbers)\n",
        "\n",
        "print(\"Geometric Mean:\", geo_mean)\n"
      ],
      "metadata": {
        "colab": {
          "base_uri": "https://localhost:8080/"
        },
        "id": "agfM92qUiXxl",
        "outputId": "bdb1c0ee-3fef-4434-afe9-53f724560702"
      },
      "execution_count": null,
      "outputs": [
        {
          "output_type": "stream",
          "name": "stdout",
          "text": [
            "Geometric Mean: 5.383563270955295\n"
          ]
        }
      ]
    },
    {
      "cell_type": "markdown",
      "source": [
        "  (v) Create a program to calculate the harmonic mean of a list of values\n",
        "  "
      ],
      "metadata": {
        "id": "WtUhtyo2i8xK"
      }
    },
    {
      "cell_type": "markdown",
      "source": [
        "The harmonic mean is the reciprocal of the arithmetic mean of the reciprocals of the values in the list. Mathematically, for a list of\n",
        "𝑛\n",
        "n values\n",
        "𝑥\n",
        "1\n",
        ",\n",
        "𝑥\n",
        "2\n",
        ",\n",
        "…\n",
        ",\n",
        "𝑥\n",
        "𝑛\n",
        "\n",
        " , the harmonic mean is calculated as:"
      ],
      "metadata": {
        "id": "mCqInhrvjMlD"
      }
    },
    {
      "cell_type": "code",
      "source": [
        "def calculate_harmonic_mean(numbers):\n",
        "    # Ensure the list is not empty and values are non-zero\n",
        "    if len(numbers) == 0:\n",
        "        raise ValueError(\"The list of numbers cannot be empty.\")\n",
        "    if any(n == 0 for n in numbers):\n",
        "        raise ValueError(\"Harmonic mean is not defined for values containing zero.\")\n",
        "\n",
        "    # Calculate the sum of reciprocals of the numbers\n",
        "    reciprocal_sum = sum(1 / num for num in numbers)\n",
        "\n",
        "    # Calculate the harmonic mean\n",
        "    harmonic_mean = len(numbers) / reciprocal_sum\n",
        "\n",
        "    return harmonic_mean\n",
        "\n",
        "# Example usage\n",
        "numbers = [4, 5, 6, 7]  # Example list of numbers\n",
        "harmonic_mean = calculate_harmonic_mean(numbers)\n",
        "\n",
        "print(\"Harmonic Mean:\", harmonic_mean)\n"
      ],
      "metadata": {
        "colab": {
          "base_uri": "https://localhost:8080/"
        },
        "id": "qK08E4XQjCmR",
        "outputId": "c70871b1-5f8c-4588-b1b5-30242bae9def"
      },
      "execution_count": null,
      "outputs": [
        {
          "output_type": "stream",
          "name": "stdout",
          "text": [
            "Harmonic Mean: 5.266457680250784\n"
          ]
        }
      ]
    },
    {
      "cell_type": "markdown",
      "source": [
        "  (vi) Build a function to determine the midrange of a list of numbers (average of the minimum and maximum)."
      ],
      "metadata": {
        "id": "dLd_SDSOjUMS"
      }
    },
    {
      "cell_type": "code",
      "source": [
        "def calculate_midrange(numbers):\n",
        "    # Ensure the list is not empty\n",
        "    if len(numbers) == 0:\n",
        "        raise ValueError(\"The list of numbers cannot be empty.\")\n",
        "\n",
        "    # Finding  the minimum and maximum values\n",
        "    min_value = min(numbers)\n",
        "    max_value = max(numbers)\n",
        "\n",
        "    # Calculating the midrange\n",
        "    midrange = (min_value + max_value) / 2\n",
        "\n",
        "    return midrange\n",
        "\n",
        "# Example usage\n",
        "numbers = [15, 28, 34, 7, 19]  # Example list of numbers\n",
        "midrange_value = calculate_midrange(numbers)\n",
        "\n",
        "print(\"Midrange:\", midrange_value)\n"
      ],
      "metadata": {
        "id": "2k7vrPVvihwV"
      },
      "execution_count": null,
      "outputs": []
    },
    {
      "cell_type": "markdown",
      "source": [
        "  (vii) Implement a Python program to find the trimmed mean of a list, excluding a certain percentage of\n",
        "outliers."
      ],
      "metadata": {
        "id": "QUOwUuusj4sF"
      }
    },
    {
      "cell_type": "code",
      "source": [
        "import numpy as np\n",
        "\n",
        "def trimmed_mean(numbers, trim_percentage):\n",
        "    # Ensuring the trim percentage is valid (between 0 and 50)\n",
        "    if trim_percentage < 0 or trim_percentage >= 50:\n",
        "        raise ValueError(\"Trim percentage must be between 0 and 50.\")\n",
        "\n",
        "    # Sorting the list of numbers\n",
        "    sorted_numbers = sorted(numbers)\n",
        "\n",
        "    # Calculating the number of elements to remove from each end\n",
        "    trim_count = int(len(sorted_numbers) * trim_percentage / 100)\n",
        "\n",
        "    # Removing the outliers from both ends\n",
        "    trimmed_numbers = sorted_numbers[trim_count:len(sorted_numbers) - trim_count]\n",
        "\n",
        "    # Calculating and return the mean of the trimmed list\n",
        "    return np.mean(trimmed_numbers)\n",
        "\n",
        "# Example usage\n",
        "numbers = [15, 28, 34, 7, 19, 85, 12, 90, 23, 45]  # Example list\n",
        "trim_percentage = 10  # Trim 10% of the outliers\n",
        "\n",
        "trimmed_mean_value = trimmed_mean(numbers, trim_percentage)\n",
        "\n",
        "print(\"Trimmed Mean:\", trimmed_mean_value)\n"
      ],
      "metadata": {
        "colab": {
          "base_uri": "https://localhost:8080/"
        },
        "id": "iS8G9Fv-j5_R",
        "outputId": "dde4c94a-03b3-4bed-dc67-75bd8081a6b3"
      },
      "execution_count": null,
      "outputs": [
        {
          "output_type": "stream",
          "name": "stdout",
          "text": [
            "Trimmed Mean: 32.625\n"
          ]
        }
      ]
    },
    {
      "cell_type": "markdown",
      "source": [
        " 2. Generate a list of 500 integers containing values between 200 to 300 and store it in the variable `int_list2`.\n",
        "After generating the list, find the following:"
      ],
      "metadata": {
        "id": "fw7KvjrFkgBE"
      }
    },
    {
      "cell_type": "code",
      "source": [
        "#genrerating 500 integers\n",
        "int_list2=np.random.randint(200,300,500)\n"
      ],
      "metadata": {
        "id": "ypkE57FtkXap"
      },
      "execution_count": null,
      "outputs": []
    },
    {
      "cell_type": "markdown",
      "source": [
        "  (i) Compare the given list of visualization for the given data:\n",
        "\n",
        "    \n",
        "\n",
        "    1. Frequency & Gaussian distribution\n",
        "\n",
        "    2. Frequency smoothened KDE plot\n",
        "\n",
        "    3. Gaussian distribution & smoothened KDE plot\n",
        "\n",
        "\n",
        "\n"
      ],
      "metadata": {
        "id": "TmRmvygclGO0"
      }
    },
    {
      "cell_type": "code",
      "source": [
        "import matplotlib.pyplot as plt\n",
        "import seaborn as sns\n",
        "import numpy as np\n",
        "\n",
        "# Convert the list to a numpy array for easier handling with seaborn\n",
        "data = np.array(int_list2)\n",
        "\n",
        "# Plot 1: Frequency & Gaussian distribution\n",
        "plt.figure(figsize=(15, 5))\n",
        "\n",
        "plt.subplot(1, 3, 1)\n",
        "sns.histplot(data, kde=False, bins=20, color='skyblue', stat='density', label='Frequency')\n",
        "plt.title('Frequency Distribution')\n",
        "plt.xlabel('Value')\n",
        "plt.ylabel('Density')\n",
        "\n",
        "# Add Gaussian distribution\n",
        "mean = np.mean(data)\n",
        "std_dev = np.std(data)\n",
        "xmin, xmax = plt.xlim()\n",
        "x = np.linspace(xmin, xmax, 100)\n",
        "p = np.exp(-((x - mean) ** 2) / (2 * std_dev ** 2)) / (std_dev * np.sqrt(2 * np.pi))\n",
        "plt.plot(x, p, 'k', linewidth=2)\n",
        "plt.title('Frequency & Gaussian Distribution')\n",
        "\n",
        "# Plot 2: Frequency smoothened KDE plot\n",
        "plt.subplot(1, 3, 2)\n",
        "sns.histplot(data, kde=True, color='skyblue', stat='density')\n",
        "plt.title('Smoothened KDE Plot')\n",
        "plt.xlabel('Value')\n",
        "plt.ylabel('Density')\n",
        "\n",
        "# Plot 3: Gaussian distribution & smoothened KDE plot\n",
        "plt.subplot(1, 3, 3)\n",
        "sns.histplot(data, kde=True, color='skyblue', stat='density')\n",
        "plt.title('Gaussian Distribution & KDE Plot')\n",
        "plt.xlabel('Value')\n",
        "plt.ylabel('Density')\n",
        "\n",
        "# Add Gaussian distribution\n",
        "plt.plot(x, p, 'k', linewidth=2)\n",
        "plt.title('Gaussian Distribution & Smoothened KDE Plot')\n",
        "\n",
        "plt.tight_layout()\n",
        "plt.show()\n"
      ],
      "metadata": {
        "colab": {
          "base_uri": "https://localhost:8080/",
          "height": 527
        },
        "id": "t4mAevT9lDk0",
        "outputId": "2ff4a291-3c80-4602-cec6-d111e6d30dd7"
      },
      "execution_count": null,
      "outputs": [
        {
          "output_type": "display_data",
          "data": {
            "text/plain": [
              "<Figure size 1500x500 with 3 Axes>"
            ],
            "image/png": "[encoded data removed]"
          },
          "metadata": {}
        }
      ]
    },
    {
      "cell_type": "markdown",
      "source": [
        "  (ii) Write a Python function to calculate the range of a given list of numbers\n",
        "  "
      ],
      "metadata": {
        "id": "mm4y3odTlwC0"
      }
    },
    {
      "cell_type": "code",
      "source": [
        "def calculate_range(numbers):\n",
        "    \"\"\"\n",
        "    Calculate the range of a list of numbers.\n",
        "\n",
        "    Parameters:\n",
        "    numbers (list of int/float): The list of numbers to calculate the range for.\n",
        "\n",
        "    Returns:\n",
        "    float: The range of the numbers in the list.\n",
        "    \"\"\"\n",
        "    if not numbers.all():\n",
        "        raise ValueError(\"The list is empty. Cannot calculate range.\")\n",
        "\n",
        "    min_value = min(numbers)\n",
        "    max_value = max(numbers)\n",
        "    return max_value - min_value\n",
        "\n",
        "# Example usage\n",
        "\n",
        "print(f\"The range of the list is: {calculate_range(int_list2)}\")\n"
      ],
      "metadata": {
        "colab": {
          "base_uri": "https://localhost:8080/"
        },
        "id": "I_Sc-KlWlbnZ",
        "outputId": "1a7ff651-f9b2-4e35-8a0a-482fc5638b43"
      },
      "execution_count": null,
      "outputs": [
        {
          "output_type": "stream",
          "name": "stdout",
          "text": [
            "The range of the list is: 99\n"
          ]
        }
      ]
    },
    {
      "cell_type": "markdown",
      "source": [
        "  (iii) Create a program to find the variance and standard deviation of a list of numbers."
      ],
      "metadata": {
        "id": "CIYs5ieYmmot"
      }
    },
    {
      "cell_type": "code",
      "source": [
        "import math\n",
        "\n",
        "def calculate_variance(numbers):\n",
        "    \"\"\"\n",
        "    Calculate the variance of a list of numbers.\n",
        "\n",
        "    Parameters:\n",
        "    numbers (list of int/float): The list of numbers to calculate the variance for.\n",
        "\n",
        "    Returns:\n",
        "    float: The variance of the numbers in the list.\n",
        "    \"\"\"\n",
        "    if not numbers:\n",
        "        raise ValueError(\"The list is empty. Cannot calculate variance.\")\n",
        "\n",
        "    mean = sum(numbers) / len(numbers)\n",
        "    squared_diffs = [(x - mean) ** 2 for x in numbers]\n",
        "    variance = sum(squared_diffs) / len(numbers)  # For sample variance, use len(numbers) - 1\n",
        "    return variance\n",
        "\n",
        "def calculate_standard_deviation(numbers):\n",
        "    \"\"\"\n",
        "    Calculate the standard deviation of a list of numbers.\n",
        "\n",
        "    Parameters:\n",
        "    numbers (list of int/float): The list of numbers to calculate the standard deviation for.\n",
        "\n",
        "    Returns:\n",
        "    float: The standard deviation of the numbers in the list.\n",
        "    \"\"\"\n",
        "    variance = calculate_variance(numbers)\n",
        "    return math.sqrt(variance)\n",
        "\n",
        "# Example usage\n",
        "numbers = [10, 15, 20, 25, 30]\n",
        "\n",
        "variance = calculate_variance(numbers)\n",
        "standard_deviation = calculate_standard_deviation(numbers)\n",
        "\n",
        "print(f\"The variance of the list is: {variance}\")\n",
        "print(f\"The standard deviation of the list is: {standard_deviation}\")\n"
      ],
      "metadata": {
        "colab": {
          "base_uri": "https://localhost:8080/"
        },
        "id": "k9G98NSYluyB",
        "outputId": "e4866d79-a7c7-44f1-85e8-246309862504"
      },
      "execution_count": null,
      "outputs": [
        {
          "output_type": "stream",
          "name": "stdout",
          "text": [
            "The variance of the list is: 50.0\n",
            "The standard deviation of the list is: 7.0710678118654755\n"
          ]
        }
      ]
    },
    {
      "cell_type": "markdown",
      "source": [
        "  (iv) Implement a function to compute the interquartile range (IQR) of a list of values\n",
        "  "
      ],
      "metadata": {
        "id": "jdnUVBKAm1kM"
      }
    },
    {
      "cell_type": "code",
      "source": [
        "import numpy as np\n",
        "\n",
        "def calculate_iqr(values):\n",
        "    \"\"\"\n",
        "    Calculate the Interquartile Range (IQR) of a list of values.\n",
        "\n",
        "    Parameters:\n",
        "    values (list of int/float): The list of values to calculate the IQR for.\n",
        "\n",
        "    Returns:\n",
        "    float: The IQR of the values in the list.\n",
        "    \"\"\"\n",
        "    if not values:\n",
        "        raise ValueError(\"The list is empty. Cannot calculate IQR.\")\n",
        "\n",
        "    # Sort the list\n",
        "    values_sorted = sorted(values)\n",
        "\n",
        "    # Compute Q1 and Q3 using numpy's percentile function\n",
        "    q1 = np.percentile(values_sorted, 25)\n",
        "    q3 = np.percentile(values_sorted, 75)\n",
        "\n",
        "    # Calculate IQR\n",
        "    iqr = q3 - q1\n",
        "    return iqr\n",
        "\n",
        "# Example usage\n",
        "values = [10, 15, 20, 25, 30, 35, 40, 45, 50]\n",
        "iqr = calculate_iqr(values)\n",
        "print(f\"The Interquartile Range (IQR) of the list is: {iqr}\")\n"
      ],
      "metadata": {
        "colab": {
          "base_uri": "https://localhost:8080/"
        },
        "id": "UZKCP9fbmwUe",
        "outputId": "3d4cef45-8e88-421d-8d6b-d71cfb9bb2a7"
      },
      "execution_count": null,
      "outputs": [
        {
          "output_type": "stream",
          "name": "stdout",
          "text": [
            "The Interquartile Range (IQR) of the list is: 20.0\n"
          ]
        }
      ]
    },
    {
      "cell_type": "markdown",
      "source": [
        "  (v) Build a program to calculate the coefficient of variation for a dataset"
      ],
      "metadata": {
        "id": "Ahp_NFeWnGg9"
      }
    },
    {
      "cell_type": "code",
      "source": [
        "import numpy as np\n",
        "\n",
        "def calculate_coefficient_of_variation(data):\n",
        "    \"\"\"\n",
        "    Calculate the Coefficient of Variation (CV) of a dataset.\n",
        "\n",
        "    Parameters:\n",
        "    data (list of int/float): The list of values to calculate the CV for.\n",
        "\n",
        "    Returns:\n",
        "    float: The Coefficient of Variation of the dataset as a percentage.\n",
        "    \"\"\"\n",
        "    if not data.all():\n",
        "        raise ValueError(\"The dataset is empty. Cannot calculate CV.\")\n",
        "\n",
        "    mean = np.mean(data)\n",
        "    if mean == 0:\n",
        "        raise ValueError(\"Mean of the dataset is zero. Cannot calculate CV.\")\n",
        "\n",
        "    std_dev = np.std(data)\n",
        "\n",
        "    # Calculate CV\n",
        "    cv = (std_dev / mean) * 100\n",
        "    return cv\n",
        "\n",
        "# Example usage\n",
        "\n",
        "cv = calculate_coefficient_of_variation(int_list2)\n",
        "print(f\"The Coefficient of Variation (CV) of the dataset is: {cv:.2f}%\")\n"
      ],
      "metadata": {
        "colab": {
          "base_uri": "https://localhost:8080/"
        },
        "id": "37MdUYvInA5P",
        "outputId": "8332ce32-3138-4902-dfad-d8139f5f42db"
      },
      "execution_count": null,
      "outputs": [
        {
          "output_type": "stream",
          "name": "stdout",
          "text": [
            "The Coefficient of Variation (CV) of the dataset is: 11.68%\n"
          ]
        }
      ]
    },
    {
      "cell_type": "markdown",
      "source": [
        "  (vi) Write a Python function to find the mean absolute deviation (MAD) of a list of numbers."
      ],
      "metadata": {
        "id": "C9UYfyQVtcz0"
      }
    },
    {
      "cell_type": "markdown",
      "source": [
        "he Mean Absolute Deviation (MAD) is a measure of the dispersion or variability of a dataset. It represents the average of the absolute deviations from the mean."
      ],
      "metadata": {
        "id": "VJy5iIVXtosA"
      }
    },
    {
      "cell_type": "code",
      "source": [
        "def calculate_mean_absolute_deviation(numbers):\n",
        "    \"\"\"\n",
        "    Calculate the Mean Absolute Deviation (MAD) of a list of numbers.\n",
        "\n",
        "    Parameters:\n",
        "    numbers (list of int/float): The list of numbers to calculate the MAD for.\n",
        "\n",
        "    Returns:\n",
        "    float: The Mean Absolute Deviation of the numbers in the list.\n",
        "    \"\"\"\n",
        "    if not numbers.all():\n",
        "        raise ValueError(\"The list is empty. Cannot calculate MAD.\")\n",
        "\n",
        "    mean = sum(numbers) / len(numbers)\n",
        "    absolute_deviations = [abs(x - mean) for x in numbers]\n",
        "    mad = sum(absolute_deviations) / len(numbers)\n",
        "    return mad\n",
        "\n",
        "# Example usage\n",
        "\n",
        "mad = calculate_mean_absolute_deviation(int_list2)\n",
        "print(f\"The Mean Absolute Deviation (MAD) of the list is: {mad:.2f}\")\n"
      ],
      "metadata": {
        "colab": {
          "base_uri": "https://localhost:8080/"
        },
        "id": "xlVWmqCutLcz",
        "outputId": "9bf12fc3-9f5c-4af0-ad05-eaa163806df1"
      },
      "execution_count": null,
      "outputs": [
        {
          "output_type": "stream",
          "name": "stdout",
          "text": [
            "The Mean Absolute Deviation (MAD) of the list is: 24.69\n"
          ]
        }
      ]
    },
    {
      "cell_type": "markdown",
      "source": [
        "  (vii) Create a program to calculate the quartile deviation of a list of values."
      ],
      "metadata": {
        "id": "8JMC6DzjuEPN"
      }
    },
    {
      "cell_type": "markdown",
      "source": [
        "The Quartile Deviation (QD), also known as the Semi-Interquartile Range, is a measure of variability based on quartiles. It is calculated as half of the difference between the third quartile (Q3) and the first quartile (Q1)."
      ],
      "metadata": {
        "id": "zGri8YfHuSU6"
      }
    },
    {
      "cell_type": "code",
      "source": [
        "import numpy as np\n",
        "\n",
        "def calculate_quartile_deviation(values):\n",
        "    \"\"\"\n",
        "    Calculate the Quartile Deviation (QD) of a list of values.\n",
        "\n",
        "    Parameters:\n",
        "    values (list of int/float): The list of values to calculate the QD for.\n",
        "\n",
        "    Returns:\n",
        "    float: The Quartile Deviation of the values in the list.\n",
        "    \"\"\"\n",
        "    if not values.all():\n",
        "        raise ValueError(\"The list is empty. Cannot calculate QD.\")\n",
        "\n",
        "    # Sort the list\n",
        "    values_sorted = sorted(values)\n",
        "\n",
        "    # Computing Q1 and Q3 using numpy's percentile function\n",
        "    q1 = np.percentile(values_sorted, 25)\n",
        "    q3 = np.percentile(values_sorted, 75)\n",
        "\n",
        "    # Calculating Quartile Deviation\n",
        "    quartile_deviation = (q3 - q1) / 2\n",
        "    return quartile_deviation\n",
        "\n",
        "# Example usage\n",
        "\n",
        "qd = calculate_quartile_deviation(int_list2)\n",
        "print(f\"The Quartile Deviation (QD) of the list is: {qd:.2f}\")\n"
      ],
      "metadata": {
        "colab": {
          "base_uri": "https://localhost:8080/"
        },
        "id": "miYA2COguCvB",
        "outputId": "3b506c20-79d8-448b-d3d3-b4f15af6d498"
      },
      "execution_count": null,
      "outputs": [
        {
          "output_type": "stream",
          "name": "stdout",
          "text": [
            "The Quartile Deviation (QD) of the list is: 23.62\n"
          ]
        }
      ]
    },
    {
      "cell_type": "markdown",
      "source": [
        " (viii) Implement a function to find the range-based coefficient of dispersion for a dataset."
      ],
      "metadata": {
        "id": "gSLMNMI7udkT"
      }
    },
    {
      "cell_type": "markdown",
      "source": [
        "The Range-Based Coefficient of Dispersion (also known as Coefficient of Variation based on Range) is a measure of relative variability that compares the range of a dataset to its mean. It is calculated as:\n",
        "\n",
        "\n",
        "\n",
        "Range-Based Coefficient of Dispersion=\n",
        "Mean/\n",
        "Range\n",
        "​\n",
        "\n",
        "\n",
        "where:\n",
        "\n",
        "Range is the difference between the maximum and minimum values in the dataset.\n",
        "\n",
        "Mean is the average of the dataset."
      ],
      "metadata": {
        "id": "GyY378Rtuo1A"
      }
    },
    {
      "cell_type": "code",
      "source": [
        "def calculate_range_based_coefficient_of_dispersion(data):\n",
        "    \"\"\"\n",
        "    Calculate the Range-Based Coefficient of Dispersion for a dataset.\n",
        "\n",
        "    Parameters:\n",
        "    data (list of int/float): The list of values to calculate the coefficient of dispersion for.\n",
        "\n",
        "    Returns:\n",
        "    float: The Range-Based Coefficient of Dispersion of the dataset.\n",
        "    \"\"\"\n",
        "    if not data.all():\n",
        "        raise ValueError(\"The dataset is empty. Cannot calculate coefficient of dispersion.\")\n",
        "\n",
        "    mean = sum(data) / len(data)\n",
        "    if mean == 0:\n",
        "        raise ValueError(\"Mean of the dataset is zero. Cannot calculate coefficient of dispersion.\")\n",
        "\n",
        "    range_value = max(data) - min(data)\n",
        "\n",
        "    # Calculate Range-Based Coefficient of Dispersion\n",
        "    coefficient_of_dispersion = range_value / mean\n",
        "    return coefficient_of_dispersion\n",
        "\n",
        "# Example usage\n",
        "\n",
        "coefficient_of_dispersion = calculate_range_based_coefficient_of_dispersion(int_list2)\n",
        "print(f\"The Range-Based Coefficient of Dispersion of the dataset is: {coefficient_of_dispersion:.2f}\")\n"
      ],
      "metadata": {
        "colab": {
          "base_uri": "https://localhost:8080/"
        },
        "id": "rT7DwNmFucRZ",
        "outputId": "71886cc9-b671-46b9-c274-269a0e817fd4"
      },
      "execution_count": null,
      "outputs": [
        {
          "output_type": "stream",
          "name": "stdout",
          "text": [
            "The Range-Based Coefficient of Dispersion of the dataset is: 0.40\n"
          ]
        }
      ]
    },
    {
      "cell_type": "markdown",
      "source": [
        "3)  Write a Python class representing a discrete random variable with methods to calculate its expected\n",
        "value and variance.\n"
      ],
      "metadata": {
        "id": "Y28i1ye0u_lA"
      }
    },
    {
      "cell_type": "markdown",
      "source": [
        "To represent a discrete random variable in Python, we can create a class with methods to calculate its expected value (mean) and variance. The expected value is the weighted average of all possible values, and the variance measures the spread of the values around the expected value."
      ],
      "metadata": {
        "id": "2AjKu4uZvN6y"
      }
    },
    {
      "cell_type": "code",
      "source": [
        "class DiscreteRandomVariable:\n",
        "    def __init__(self, probabilities, values):\n",
        "        \"\"\"\n",
        "        Initialize the DiscreteRandomVariable class.\n",
        "\n",
        "        Parameters:\n",
        "        probabilities (list of float): The probabilities associated with each value.\n",
        "        values (list of float): The possible values of the random variable.\n",
        "\n",
        "        Raises:\n",
        "        ValueError: If the lengths of probabilities and values do not match or if probabilities do not sum to 1.\n",
        "        \"\"\"\n",
        "        if len(probabilities) != len(values):\n",
        "            raise ValueError(\"The length of probabilities and values must be the same.\")\n",
        "\n",
        "        if not np.isclose(sum(probabilities), 1):\n",
        "            raise ValueError(\"The probabilities must sum to 1.\")\n",
        "\n",
        "        self.probabilities = probabilities\n",
        "        self.values = values\n",
        "\n",
        "    def expected_value(self):\n",
        "        \"\"\"\n",
        "        Calculate the expected value (mean) of the discrete random variable.\n",
        "\n",
        "        Returns:\n",
        "        float: The expected value of the random variable.\n",
        "        \"\"\"\n",
        "        return sum(p * x for p, x in zip(self.probabilities, self.values))\n",
        "\n",
        "    def variance(self):\n",
        "        \"\"\"\n",
        "        Calculate the variance of the discrete random variable.\n",
        "\n",
        "        Returns:\n",
        "        float: The variance of the random variable.\n",
        "        \"\"\"\n",
        "        mean = self.expected_value()\n",
        "        return sum(p * (x - mean) ** 2 for p, x in zip(self.probabilities, self.values))\n",
        "\n",
        "# Example usage\n",
        "probabilities = [0.2, 0.5, 0.3]\n",
        "values = [1, 2, 3]\n",
        "\n",
        "rv = DiscreteRandomVariable(probabilities, values)\n",
        "print(f\"The expected value is: {rv.expected_value():.2f}\")\n",
        "print(f\"The variance is: {rv.variance():.2f}\")\n"
      ],
      "metadata": {
        "colab": {
          "base_uri": "https://localhost:8080/"
        },
        "id": "B3SLMn8yu-My",
        "outputId": "448972bc-04dd-4c2b-fb68-acd1021acc96"
      },
      "execution_count": null,
      "outputs": [
        {
          "output_type": "stream",
          "name": "stdout",
          "text": [
            "The expected value is: 2.10\n",
            "The variance is: 0.49\n"
          ]
        }
      ]
    },
    {
      "cell_type": "markdown",
      "source": [
        "4) Implement a program to simulate the rolling o6 a fair six-sided die and calculate the expected value and\n",
        "variance of the outcomes."
      ],
      "metadata": {
        "id": "IFOxLnfYvgAD"
      }
    },
    {
      "cell_type": "markdown",
      "source": [
        "To simulate the rolling of a fair six-sided die and calculate the expected value and variance of the outcomes, you can follow these steps:\n",
        "\n",
        "\n",
        "Simulate Rolling the Die: Use random sampling to simulate the outcomes of rolling a six-sided die multiple times.\n",
        "\n",
        "Calculate Expected Value: The expected value (mean) is the average of the outcomes.\n",
        "\n",
        "Calculate Variance: The variance measures how much the outcomes deviate from the expected value."
      ],
      "metadata": {
        "id": "P6l07ESivsGo"
      }
    },
    {
      "cell_type": "code",
      "source": [
        "import numpy as np\n",
        "\n",
        "def roll_die(num_rolls):\n",
        "    \"\"\"\n",
        "    Simulate rolling a fair six-sided die multiple times.\n",
        "\n",
        "    Parameters:\n",
        "    num_rolls (int): The number of times to roll the die.\n",
        "\n",
        "    Returns:\n",
        "    list of int: The outcomes of each die roll.\n",
        "    \"\"\"\n",
        "    return np.random.randint(1, 7, size=num_rolls)\n",
        "\n",
        "def calculate_expected_value(outcomes):\n",
        "    \"\"\"\n",
        "    Calculate the expected value of the outcomes.\n",
        "\n",
        "    Parameters:\n",
        "    outcomes (list of int): The list of outcomes from rolling the die.\n",
        "\n",
        "    Returns:\n",
        "    float: The expected value of the outcomes.\n",
        "    \"\"\"\n",
        "    return np.mean(outcomes)\n",
        "\n",
        "def calculate_variance(outcomes):\n",
        "    \"\"\"\n",
        "    Calculate the variance of the outcomes.\n",
        "\n",
        "    Parameters:\n",
        "    outcomes (list of int): The list of outcomes from rolling the die.\n",
        "\n",
        "    Returns:\n",
        "    float: The variance of the outcomes.\n",
        "    \"\"\"\n",
        "    return np.var(outcomes)\n",
        "\n",
        "# Example usage\n",
        "num_rolls = 1000  # Number of times to roll the die\n",
        "\n",
        "# Simulating rolling the die\n",
        "outcomes = roll_die(num_rolls)\n",
        "\n",
        "# Calculating expected value and variance\n",
        "expected_value = calculate_expected_value(outcomes)\n",
        "variance = calculate_variance(outcomes)\n",
        "\n",
        "print(f\"The expected value of the die rolls is: {expected_value:.2f}\")\n",
        "print(f\"The variance of the die rolls is: {variance:.2f}\")\n"
      ],
      "metadata": {
        "colab": {
          "base_uri": "https://localhost:8080/"
        },
        "id": "Kkf4uqKtvbx9",
        "outputId": "96a2ee56-a5f3-4ac5-9746-d8b223dd94b6"
      },
      "execution_count": null,
      "outputs": [
        {
          "output_type": "stream",
          "name": "stdout",
          "text": [
            "The expected value of the die rolls is: 3.53\n",
            "The variance of the die rolls is: 2.95\n"
          ]
        }
      ]
    },
    {
      "cell_type": "markdown",
      "source": [
        "5) Create a Python 6unction to generate random samples 6rom a given probability distribution (e.g.,\n",
        "binomial, Poisson) and calculate their mean and variance."
      ],
      "metadata": {
        "id": "ZIY0xqgav4yd"
      }
    },
    {
      "cell_type": "markdown",
      "source": [
        "To create a Python function that generates random samples from a given probability distribution (e.g., binomial, Poisson) and calculates their mean and variance, you can use the numpy library. The numpy.random module provides functions to generate samples from various probability distributions."
      ],
      "metadata": {
        "id": "4lOJbkTWwEp3"
      }
    },
    {
      "cell_type": "code",
      "source": [
        "import numpy as np\n",
        "\n",
        "def generate_samples_and_calculate_statistics(distribution, params, num_samples):\n",
        "    \"\"\"\n",
        "    Generate random samples from a given probability distribution and calculate their mean and variance.\n",
        "\n",
        "    Parameters:\n",
        "    distribution (str): The type of probability distribution ('binomial' or 'poisson').\n",
        "    params (tuple): Parameters for the distribution:\n",
        "        - For 'binomial': (n, p) where n is the number of trials and p is the probability of success.\n",
        "        - For 'poisson': (lambda_) where lambda_ is the rate parameter.\n",
        "    num_samples (int): The number of samples to generate.\n",
        "\n",
        "    Returns:\n",
        "    tuple: (mean, variance) of the generated samples.\n",
        "    \"\"\"\n",
        "    if distribution == 'binomial':\n",
        "        n, p = params\n",
        "        samples = np.random.binomial(n, p, num_samples)\n",
        "    elif distribution == 'poisson':\n",
        "        lambda_ = params[0]\n",
        "        samples = np.random.poisson(lambda_, num_samples)\n",
        "    else:\n",
        "        raise ValueError(\"Unsupported distribution type. Choose 'binomial' or 'poisson'.\")\n",
        "\n",
        "    mean = np.mean(samples)\n",
        "    variance = np.var(samples)\n",
        "\n",
        "    return mean, variance\n",
        "\n",
        "# Example usage\n",
        "distribution = 'binomial'\n",
        "params = (10, 0.5)  # Number of trials = 10, Probability of success = 0.5\n",
        "num_samples = 1000\n",
        "\n",
        "mean, variance = generate_samples_and_calculate_statistics(distribution, params, num_samples)\n",
        "print(f\"Mean: {mean:.2f}\")\n",
        "print(f\"Variance: {variance:.2f}\")\n"
      ],
      "metadata": {
        "colab": {
          "base_uri": "https://localhost:8080/"
        },
        "id": "p6Ta8NUCv26s",
        "outputId": "b71b0d42-d49d-4475-845a-97aa19efe054"
      },
      "execution_count": null,
      "outputs": [
        {
          "output_type": "stream",
          "name": "stdout",
          "text": [
            "Mean: 5.03\n",
            "Variance: 2.68\n"
          ]
        }
      ]
    },
    {
      "cell_type": "markdown",
      "source": [
        "6) Write a Python script to generate random numbers 6rom a Gaussian (normal) distribution and compute\n",
        "the mean, variance, and standard deviation o6 the samples."
      ],
      "metadata": {
        "id": "3DBTzY1NwOm-"
      }
    },
    {
      "cell_type": "markdown",
      "source": [
        "To generate random numbers from a Gaussian (normal) distribution and compute their mean, variance, and standard deviation, we can use the numpy library. The numpy.random.normal function allows you to generate samples from a normal distribution, given the mean and standard deviation of the distribution"
      ],
      "metadata": {
        "id": "2JhgYIYmwaan"
      }
    },
    {
      "cell_type": "code",
      "source": [
        "import numpy as np\n",
        "\n",
        "def generate_gaussian_samples(mean, std_dev, num_samples):\n",
        "    \"\"\"\n",
        "    Generate random samples from a Gaussian (normal) distribution and compute their mean, variance, and standard deviation.\n",
        "\n",
        "    Parameters:\n",
        "    mean (float): The mean of the Gaussian distribution.\n",
        "    std_dev (float): The standard deviation of the Gaussian distribution.\n",
        "    num_samples (int): The number of samples to generate.\n",
        "\n",
        "    Returns:\n",
        "    tuple: (mean, variance, standard deviation) of the generated samples.\n",
        "    \"\"\"\n",
        "    # Generate random samples from a Gaussian distribution\n",
        "    samples = np.random.normal(loc=mean, scale=std_dev, size=num_samples)\n",
        "\n",
        "    # Compute statistics\n",
        "    computed_mean = np.mean(samples)\n",
        "    variance = np.var(samples)\n",
        "    computed_std_dev = np.std(samples)\n",
        "\n",
        "    return computed_mean, variance, computed_std_dev\n",
        "\n",
        "# Example usage\n",
        "mean = 0       # Mean of the Gaussian distribution\n",
        "std_dev = 1    # Standard deviation of the Gaussian distribution\n",
        "num_samples = 1000  # Number of samples to generate\n",
        "\n",
        "computed_mean, variance, computed_std_dev = generate_gaussian_samples(mean, std_dev, num_samples)\n",
        "print(f\"Mean of the samples: {computed_mean:.2f}\")\n",
        "print(f\"Variance of the samples: {variance:.2f}\")\n",
        "print(f\"Standard Deviation of the samples: {computed_std_dev:.2f}\")\n"
      ],
      "metadata": {
        "colab": {
          "base_uri": "https://localhost:8080/"
        },
        "id": "wwBh1ybQwMDM",
        "outputId": "71774777-868b-498b-91ab-856639066a00"
      },
      "execution_count": null,
      "outputs": [
        {
          "output_type": "stream",
          "name": "stdout",
          "text": [
            "Mean of the samples: -0.07\n",
            "Variance of the samples: 1.02\n",
            "Standard Deviation of the samples: 1.01\n"
          ]
        }
      ]
    },
    {
      "cell_type": "markdown",
      "source": [
        "7) Use seaborn libraries to load tips dataset. Find the 6ollowing 6rom the dataset 6or the columns total_bill\n",
        "and tip`:"
      ],
      "metadata": {
        "id": "NPZmJ5Xvwjpe"
      }
    },
    {
      "cell_type": "markdown",
      "source": [
        "  i) Write a Python function that calculates their skewness"
      ],
      "metadata": {
        "id": "yvgp-kJfwp1N"
      }
    },
    {
      "cell_type": "code",
      "source": [
        "import seaborn as sns\n",
        "import pandas as pd\n",
        "from scipy.stats import skew\n",
        "\n",
        "def calculate_skewness(data, column_name):\n",
        "    \"\"\"\n",
        "    Calculate the skewness of a specified column in the dataset.\n",
        "\n",
        "    Parameters:\n",
        "    data (DataFrame): The dataset containing the column.\n",
        "    column_name (str): The name of the column to calculate skewness for.\n",
        "\n",
        "    Returns:\n",
        "    float: The skewness of the column.\n",
        "    \"\"\"\n",
        "    if column_name not in data.columns:\n",
        "        raise ValueError(f\"Column '{column_name}' not found in the dataset.\")\n",
        "\n",
        "    # Extract the column values\n",
        "    column_data = data[column_name]\n",
        "\n",
        "    # Calculate skewness\n",
        "    column_skewness = skew(column_data)\n",
        "\n",
        "    return column_skewness\n",
        "\n",
        "# Loading the tips dataset\n",
        "tips = sns.load_dataset('tips')\n",
        "\n",
        "# Calculating skewness for 'total_bill' and 'tip' columns\n",
        "total_bill_skewness = calculate_skewness(tips, 'total_bill')\n",
        "tip_skewness = calculate_skewness(tips, 'tip')\n",
        "\n",
        "print(f\"Skewness of 'total_bill': {total_bill_skewness:.2f}\")\n",
        "print(f\"Skewness of 'tip': {tip_skewness:.2f}\")\n"
      ],
      "metadata": {
        "colab": {
          "base_uri": "https://localhost:8080/"
        },
        "id": "7TouQaL9wicP",
        "outputId": "b157cdd6-ac19-4cec-99b7-f7d8c0437704"
      },
      "execution_count": null,
      "outputs": [
        {
          "output_type": "stream",
          "name": "stdout",
          "text": [
            "Skewness of 'total_bill': 1.13\n",
            "Skewness of 'tip': 1.46\n"
          ]
        }
      ]
    },
    {
      "cell_type": "markdown",
      "source": [
        "  ii) Create a program that determines whether the columns exhibit positive skewness, negative skewness, or is\n",
        "approximately symmetric"
      ],
      "metadata": {
        "id": "0cqEFJjhw_2e"
      }
    },
    {
      "cell_type": "markdown",
      "source": [
        "To determine whether the columns exhibit positive skewness, negative skewness, or are approximately symmetric, we can use the following approach:\n",
        "\n",
        "Calculate the Skewness: Use the scipy.stats.skew function to compute the skewness for each column.\n",
        "\n",
        "Interpret the Skewness:\n",
        "Positive skewness indicates a longer right tail.\n",
        "\n",
        "Negative skewness indicates a longer left tail.\n",
        "\n",
        "Skewness close to zero (within a threshold) indicates approximate symmetry."
      ],
      "metadata": {
        "id": "fhWnw5GrxRN_"
      }
    },
    {
      "cell_type": "code",
      "source": [
        "import seaborn as sns\n",
        "import pandas as pd\n",
        "from scipy.stats import skew\n",
        "\n",
        "def calculate_skewness(data, column_name):\n",
        "    \"\"\"\n",
        "    Calculate the skewness of a specified column in the dataset.\n",
        "\n",
        "    Parameters:\n",
        "    data (DataFrame): The dataset containing the column.\n",
        "    column_name (str): The name of the column to calculate skewness for.\n",
        "\n",
        "    Returns:\n",
        "    float: The skewness of the column.\n",
        "    \"\"\"\n",
        "    if column_name not in data.columns:\n",
        "        raise ValueError(f\"Column '{column_name}' not found in the dataset.\")\n",
        "\n",
        "    # Extract the column values\n",
        "    column_data = data[column_name]\n",
        "\n",
        "    # Calculating skewness\n",
        "    column_skewness = skew(column_data)\n",
        "\n",
        "    return column_skewness\n",
        "\n",
        "def interpret_skewness(skewness, threshold=0.1):\n",
        "    \"\"\"\n",
        "    Interpret the skewness value to determine the distribution type.\n",
        "\n",
        "    Parameters:\n",
        "    skewness (float): The skewness of the column.\n",
        "    threshold (float): The threshold for determining approximate symmetry.\n",
        "\n",
        "    Returns:\n",
        "    str: Interpretation of the skewness value.\n",
        "    \"\"\"\n",
        "    if skewness > threshold:\n",
        "        return \"Positive skewness (longer right tail)\"\n",
        "    elif skewness < -threshold:\n",
        "        return \"Negative skewness (longer left tail)\"\n",
        "    else:\n",
        "        return \"Approximately symmetric\"\n",
        "\n",
        "# Load the tips dataset\n",
        "tips = sns.load_dataset('tips')\n",
        "\n",
        "# Calculating skewness for 'total_bill' and 'tip' columns\n",
        "total_bill_skewness = calculate_skewness(tips, 'total_bill')\n",
        "tip_skewness = calculate_skewness(tips, 'tip')\n",
        "\n",
        "# Interpreting skewness\n",
        "total_bill_interpretation = interpret_skewness(total_bill_skewness)\n",
        "tip_interpretation = interpret_skewness(tip_skewness)\n",
        "\n",
        "print(f\"Skewness of 'total_bill': {total_bill_skewness:.2f} - {total_bill_interpretation}\")\n",
        "print(f\"Skewness of 'tip': {tip_skewness:.2f} - {tip_interpretation}\")\n"
      ],
      "metadata": {
        "colab": {
          "base_uri": "https://localhost:8080/"
        },
        "id": "1XFrDAiEw-BB",
        "outputId": "3a63c8ad-ef70-432d-e4c9-2cc97e014618"
      },
      "execution_count": null,
      "outputs": [
        {
          "output_type": "stream",
          "name": "stdout",
          "text": [
            "Skewness of 'total_bill': 1.13 - Positive skewness (longer right tail)\n",
            "Skewness of 'tip': 1.46 - Positive skewness (longer right tail)\n"
          ]
        }
      ]
    },
    {
      "cell_type": "markdown",
      "source": [
        "  iii) Write a function that calculates the covariance between two columns."
      ],
      "metadata": {
        "id": "s8g1J9DvxlkV"
      }
    },
    {
      "cell_type": "markdown",
      "source": [
        "To calculate the covariance between two columns in a dataset, we can use the numpy library, which provides functions for computing covariance. Covariance measures how much two variables change together and can be positive, negative, or zero, indicating different types of relationships."
      ],
      "metadata": {
        "id": "ZGNYtlBixxMZ"
      }
    },
    {
      "cell_type": "code",
      "source": [
        "import pandas as pd\n",
        "import numpy as np\n",
        "\n",
        "def calculate_covariance(data, column1, column2):\n",
        "    \"\"\"\n",
        "    Calculate the covariance between two specified columns in the dataset.\n",
        "\n",
        "    Parameters:\n",
        "    data (DataFrame): The dataset containing the columns.\n",
        "    column1 (str): The name of the first column.\n",
        "    column2 (str): The name of the second column.\n",
        "\n",
        "    Returns:\n",
        "    float: The covariance between the two columns.\n",
        "    \"\"\"\n",
        "    if column1 not in data.columns or column2 not in data.columns:\n",
        "        raise ValueError(f\"One or both columns '{column1}' and '{column2}' not found in the dataset.\")\n",
        "\n",
        "    # Extract the columns\n",
        "    x = data[column1]\n",
        "    y = data[column2]\n",
        "\n",
        "    # Calculate covariance using numpy's cov function\n",
        "    covariance_matrix = np.cov(x, y, ddof=0)\n",
        "    covariance = covariance_matrix[0, 1]\n",
        "\n",
        "    return covariance\n",
        "\n",
        "# Example usage\n",
        "if __name__ == \"__main__\":\n",
        "    # Load the tips dataset\n",
        "    tips = pd.read_csv(\"https://raw.githubusercontent.com/mwaskom/seaborn-data/master/tips.csv\")\n",
        "\n",
        "    # Calculate covariance between 'total_bill' and 'tip'\n",
        "    covariance_total_bill_tip = calculate_covariance(tips, 'total_bill', 'tip')\n",
        "\n",
        "    print(f\"Covariance between 'total_bill' and 'tip': {covariance_total_bill_tip:.2f}\")\n"
      ],
      "metadata": {
        "colab": {
          "base_uri": "https://localhost:8080/"
        },
        "id": "tQFS6nu2xe26",
        "outputId": "fb1d9f6d-17a1-4d1c-ea03-a8ebeadedb5c"
      },
      "execution_count": null,
      "outputs": [
        {
          "output_type": "stream",
          "name": "stdout",
          "text": [
            "Covariance between 'total_bill' and 'tip': 8.29\n"
          ]
        }
      ]
    },
    {
      "cell_type": "code",
      "source": [],
      "metadata": {
        "id": "7WI2o_mbx8Nv"
      },
      "execution_count": null,
      "outputs": []
    },
    {
      "cell_type": "markdown",
      "source": [
        "  iv) Implement a Python program that calculates the Pearson correlation coefficient between two columns."
      ],
      "metadata": {
        "id": "ExnO2PeFx-nM"
      }
    },
    {
      "cell_type": "markdown",
      "source": [
        "To calculate the Pearson correlation coefficient between two columns in a dataset, we can use the numpy library or scipy.stats module. The Pearson correlation coefficient measures the linear relationship between two variables and ranges from -1 (perfect negative correlation) to 1 (perfect positive correlation). A value of 0 indicates no linear correlation.\n",
        "\n"
      ],
      "metadata": {
        "id": "LhMAuOeSyLqJ"
      }
    },
    {
      "cell_type": "code",
      "source": [
        "import pandas as pd\n",
        "import numpy as np\n",
        "\n",
        "def calculate_pearson_correlation_numpy(data, column1, column2):\n",
        "    \"\"\"\n",
        "    Calculate the Pearson correlation coefficient between two specified columns in the dataset using numpy.\n",
        "\n",
        "    Parameters:\n",
        "    data (DataFrame): The dataset containing the columns.\n",
        "    column1 (str): The name of the first column.\n",
        "    column2 (str): The name of the second column.\n",
        "\n",
        "    Returns:\n",
        "    float: The Pearson correlation coefficient between the two columns.\n",
        "    \"\"\"\n",
        "    if column1 not in data.columns or column2 not in data.columns:\n",
        "        raise ValueError(f\"One or both columns '{column1}' and '{column2}' not found in the dataset.\")\n",
        "\n",
        "    # Extracting the columns\n",
        "    x = data[column1]\n",
        "    y = data[column2]\n",
        "\n",
        "    # Calculate Pearson correlation coefficient using numpy's corrcoef function\n",
        "    correlation_matrix = np.corrcoef(x, y)\n",
        "    correlation = correlation_matrix[0, 1]\n",
        "\n",
        "    return correlation\n",
        "\n",
        "# Example usage\n",
        "if __name__ == \"__main__\":\n",
        "    # Load the tips dataset\n",
        "    tips = pd.read_csv(\"https://raw.githubusercontent.com/mwaskom/seaborn-data/master/tips.csv\")\n",
        "\n",
        "    # Calculate Pearson correlation between 'total_bill' and 'tip'\n",
        "    pearson_correlation_total_bill_tip = calculate_pearson_correlation_numpy(tips, 'total_bill', 'tip')\n",
        "\n",
        "    print(f\"Pearson correlation coefficient between 'total_bill' and 'tip': {pearson_correlation_total_bill_tip:.2f}\")\n"
      ],
      "metadata": {
        "colab": {
          "base_uri": "https://localhost:8080/"
        },
        "id": "NOamVtwdyGfq",
        "outputId": "c6acedcb-96ff-4d8d-ae54-325fadc6532f"
      },
      "execution_count": null,
      "outputs": [
        {
          "output_type": "stream",
          "name": "stdout",
          "text": [
            "Pearson correlation coefficient between 'total_bill' and 'tip': 0.68\n"
          ]
        }
      ]
    },
    {
      "cell_type": "markdown",
      "source": [
        "  (v) Write a script to visualize the correlation between two specific columns in a Pandas DataFrame using\n",
        "scatter plots."
      ],
      "metadata": {
        "id": "d0uXo_MQyjXI"
      }
    },
    {
      "cell_type": "markdown",
      "source": [
        "To visualize the correlation between two specific columns in a Pandas DataFrame using scatter plots, you can use the matplotlib and seaborn libraries. Scatter plots are useful for visually inspecting the relationship between two numerical variables."
      ],
      "metadata": {
        "id": "0sWQHiTay0WI"
      }
    },
    {
      "cell_type": "code",
      "source": [
        "import pandas as pd\n",
        "import seaborn as sns\n",
        "import matplotlib.pyplot as plt\n",
        "\n",
        "def plot_scatter_plot(data, column1, column2):\n",
        "    \"\"\"\n",
        "    Plot a scatter plot to visualize the correlation between two specified columns in the dataset.\n",
        "\n",
        "    Parameters:\n",
        "    data (DataFrame): The dataset containing the columns.\n",
        "    column1 (str): The name of the first column.\n",
        "    column2 (str): The name of the second column.\n",
        "    \"\"\"\n",
        "    if column1 not in data.columns or column2 not in data.columns:\n",
        "        raise ValueError(f\"One or both columns '{column1}' and '{column2}' not found in the dataset.\")\n",
        "\n",
        "    # Creating a scatter plot using seaborn\n",
        "    plt.figure(figsize=(10, 6))\n",
        "    sns.scatterplot(x=data[column1], y=data[column2])\n",
        "\n",
        "    # Adding labels and title\n",
        "    plt.xlabel(column1)\n",
        "    plt.ylabel(column2)\n",
        "    plt.title(f'Scatter Plot of {column1} vs {column2}')\n",
        "\n",
        "    # Show plot\n",
        "    plt.show()\n",
        "\n",
        "# Example usage\n",
        "if __name__ == \"__main__\":\n",
        "    # Load the tips dataset\n",
        "    tips = pd.read_csv(\"https://raw.githubusercontent.com/mwaskom/seaborn-data/master/tips.csv\")\n",
        "\n",
        "    # Plot scatter plot between 'total_bill' and 'tip'\n",
        "    plot_scatter_plot(tips, 'total_bill', 'tip')\n"
      ],
      "metadata": {
        "colab": {
          "base_uri": "https://localhost:8080/",
          "height": 564
        },
        "id": "idxTCNE0yiI4",
        "outputId": "150abda0-f016-47a3-eea7-7151f67b9514"
      },
      "execution_count": null,
      "outputs": [
        {
          "output_type": "display_data",
          "data": {
            "text/plain": [
              "<Figure size 1000x600 with 1 Axes>"
            ],
            "image/png": "[encoded data removed]"
          },
          "metadata": {}
        }
      ]
    },
    {
      "cell_type": "markdown",
      "source": [
        "8) Write a Python function to calculate the probabilities density function (PDF) of a continuous random\n",
        "variable for a given normal distribution.\n"
      ],
      "metadata": {
        "id": "Et_oazo-zICS"
      }
    },
    {
      "cell_type": "markdown",
      "source": [
        "To calculate the Probability Density Function (PDF) for a continuous random variable from a normal distribution, you can use the scipy.stats library in Python. The normal distribution is characterized by its mean (\n",
        "\n",
        "μ) and standard deviation (\n",
        "\n",
        "σ). The PDF for a normal distribution can be calculated using the formula:"
      ],
      "metadata": {
        "id": "cV-TTWBHzxdw"
      }
    },
    {
      "cell_type": "markdown",
      "source": [
        "\n",
        "To calculate the Probability Density Function (PDF) for a continuous random variable from a normal distribution, you can use the scipy.stats library in Python. The normal distribution is characterized by its mean (\n",
        "𝜇\n",
        "μ) and standard deviation (\n",
        "𝜎\n",
        "σ). The PDF for a normal distribution can be calculated using the formula:\n",
        "\n",
        "𝑓\n",
        "(\n",
        "𝑥\n",
        ")\n",
        "=\n",
        "1/\n",
        "𝜎sqrt(\n",
        "2\n",
        "𝜋)\n",
        "exp\n",
        "⁡\n",
        "(\n",
        "−\n",
        "(\n",
        "𝑥\n",
        "−\n",
        "𝜇\n",
        ")\n",
        "2/\n",
        "2\n",
        "𝜎\n",
        "2\n",
        ")\n",
        "\n",
        "where:\n",
        "\n",
        "𝑥\n",
        "is the value at which you want to evaluate the PDF,\n",
        "𝜇\n",
        " is the mean of the distribution,\n",
        "\n",
        "σ is the standard deviation of the distribution."
      ],
      "metadata": {
        "id": "P2XpNQEwz0bf"
      }
    },
    {
      "cell_type": "code",
      "source": [
        "from scipy.stats import norm\n",
        "\n",
        "def calculate_pdf(x, mean, std_dev):\n",
        "    \"\"\"\n",
        "    Calculate the Probability Density Function (PDF) for a normal distribution at a given value.\n",
        "\n",
        "    Parameters:\n",
        "    x (float): The value at which to evaluate the PDF.\n",
        "    mean (float): The mean of the normal distribution.\n",
        "    std_dev (float): The standard deviation of the normal distribution.\n",
        "\n",
        "    Returns:\n",
        "    float: The PDF value at the given x.\n",
        "    \"\"\"\n",
        "    # Calculate PDF using scipy.stats.norm.pdf\n",
        "    pdf_value = norm.pdf(x, loc=mean, scale=std_dev)\n",
        "\n",
        "    return pdf_value\n",
        "\n",
        "# Example usage\n",
        "if __name__ == \"__main__\":\n",
        "    # Parameters for the normal distribution\n",
        "    mean = 0\n",
        "    std_dev = 1\n",
        "\n",
        "    # Value at which to evaluate the PDF\n",
        "    x = 1.0\n",
        "\n",
        "    # Calculate and print the PDF value\n",
        "    pdf_value = calculate_pdf(x, mean, std_dev)\n",
        "    print(f\"The PDF value at x = {x} for a normal distribution with mean = {mean} and std_dev = {std_dev} is {pdf_value:.4f}\")\n"
      ],
      "metadata": {
        "colab": {
          "base_uri": "https://localhost:8080/"
        },
        "id": "bmT66wIfzGmt",
        "outputId": "19330a38-3b56-4400-e4c0-2357892bcbb2"
      },
      "execution_count": null,
      "outputs": [
        {
          "output_type": "stream",
          "name": "stdout",
          "text": [
            "The PDF value at x = 1.0 for a normal distribution with mean = 0 and std_dev = 1 is 0.2420\n"
          ]
        }
      ]
    },
    {
      "cell_type": "markdown",
      "source": [
        "9) Create a program to calculate the cumulative distribution 6unction (CDF) o6 exponential distribution."
      ],
      "metadata": {
        "id": "03iOTGkq0sV1"
      }
    },
    {
      "cell_type": "markdown",
      "source": [
        "To calculate the Cumulative Distribution Function (CDF) for an exponential distribution, you can use the scipy.stats library in Python. The exponential distribution is characterized by its rate parameter (\n",
        "𝜆\n",
        ") or mean (\n",
        "𝛽\n",
        "). The CDF of an exponential distribution can be calculated using the formula:"
      ],
      "metadata": {
        "id": "1p3pg3zY01on"
      }
    },
    {
      "cell_type": "markdown",
      "source": [
        "F(x)=1−exp(−λx)\n",
        "\n",
        "where:\n",
        "\n",
        "𝑥\n",
        " is the value at which you want to evaluate the CDF,\n",
        "𝜆\n",
        " is the rate parameter of the distribution (often the inverse of the mean)."
      ],
      "metadata": {
        "id": "IeB3o_Jz0590"
      }
    },
    {
      "cell_type": "code",
      "source": [
        "from scipy.stats import expon\n",
        "\n",
        "def calculate_cdf(x, rate):\n",
        "    \"\"\"\n",
        "    Calculate the Cumulative Distribution Function (CDF) for an exponential distribution at a given value.\n",
        "\n",
        "    Parameters:\n",
        "    x (float): The value at which to evaluate the CDF.\n",
        "    rate (float): The rate parameter (λ) of the exponential distribution.\n",
        "\n",
        "    Returns:\n",
        "    float: The CDF value at the given x.\n",
        "    \"\"\"\n",
        "    # Calculating CDF using scipy.stats.expon.cdf\n",
        "    cdf_value = expon.cdf(x, scale=1/rate)\n",
        "\n",
        "    return cdf_value\n",
        "\n",
        "# Example usage\n",
        "if __name__ == \"__main__\":\n",
        "    # Parameters for the exponential distribution\n",
        "    rate = 1.0  # rate parameter λ, mean is 1/λ\n",
        "\n",
        "    # Value at which to evaluate the CDF\n",
        "    x = 2.0\n",
        "\n",
        "    # Calculating and print the CDF value\n",
        "    cdf_value = calculate_cdf(x, rate)\n",
        "    print(f\"The CDF value at x = {x} for an exponential distribution with rate = {rate} is {cdf_value:.4f}\")\n"
      ],
      "metadata": {
        "colab": {
          "base_uri": "https://localhost:8080/"
        },
        "id": "YflaUz_00nb1",
        "outputId": "1ac2eb96-514d-49a7-de5a-5e5558b97820"
      },
      "execution_count": null,
      "outputs": [
        {
          "output_type": "stream",
          "name": "stdout",
          "text": [
            "The CDF value at x = 2.0 for an exponential distribution with rate = 1.0 is 0.8647\n"
          ]
        }
      ]
    },
    {
      "cell_type": "markdown",
      "source": [
        "10) Write a Python function to calculate the probabilities mass function (PMF) of Poisson distribution."
      ],
      "metadata": {
        "id": "gH5Don061IDf"
      }
    },
    {
      "cell_type": "markdown",
      "source": [
        "To calculate the Probability Mass Function (PMF) of a Poisson distribution in Python, you can use the scipy.stats library. The Poisson distribution is characterized by its rate parameter (\n",
        "𝜆\n",
        "), which represents the average number of events in a fixed interval of time or space."
      ],
      "metadata": {
        "id": "pE-Ixq4g1ZxC"
      }
    },
    {
      "cell_type": "markdown",
      "source": [
        "The PMF of a Poisson distribution is given by:\n",
        "\n",
        "𝑃\n",
        "(\n",
        "𝑋\n",
        "=\n",
        "𝑘\n",
        ")\n",
        "=\n",
        "𝜆\n",
        "𝑘\n",
        "exp\n",
        "⁡\n",
        "(\n",
        "−\n",
        "𝜆\n",
        ")/\n",
        "𝑘\n",
        "!\n",
        "\n",
        "\n",
        "\n",
        "where:\n",
        "\n",
        "𝑘\n",
        " is the number of events,\n",
        "\n",
        "λ is the average rate (mean) of events."
      ],
      "metadata": {
        "id": "55gioqrQ1b9j"
      }
    },
    {
      "cell_type": "code",
      "source": [
        "from scipy.stats import poisson\n",
        "\n",
        "def calculate_pmf(k, rate):\n",
        "    \"\"\"\n",
        "    Calculate the Probability Mass Function (PMF) for a Poisson distribution at a given number of events.\n",
        "\n",
        "    Parameters:\n",
        "    k (int): The number of events.\n",
        "    rate (float): The rate parameter (λ) of the Poisson distribution.\n",
        "\n",
        "    Returns:\n",
        "    float: The PMF value at the given k.\n",
        "    \"\"\"\n",
        "    # Calculate PMF using scipy.stats.poisson.pmf\n",
        "    pmf_value = poisson.pmf(k, mu=rate)\n",
        "\n",
        "    return pmf_value\n",
        "\n",
        "# Example usage\n",
        "if __name__ == \"__main__\":\n",
        "    # Parameters for the Poisson distribution\n",
        "    rate = 3.0  # rate parameter λ, average number of events\n",
        "\n",
        "    # Number of events\n",
        "    k = 4\n",
        "\n",
        "    # Calculate and print the PMF value\n",
        "    pmf_value = calculate_pmf(k, rate)\n",
        "    print(f\"The PMF value at k = {k} for a Poisson distribution with rate = {rate} is {pmf_value:.4f}\")\n"
      ],
      "metadata": {
        "colab": {
          "base_uri": "https://localhost:8080/"
        },
        "id": "o4nF6YVe1Fhc",
        "outputId": "59e3e9a0-4963-4ed8-b6be-958383d49bee"
      },
      "execution_count": null,
      "outputs": [
        {
          "output_type": "stream",
          "name": "stdout",
          "text": [
            "The PMF value at k = 4 for a Poisson distribution with rate = 3.0 is 0.1680\n"
          ]
        }
      ]
    },
    {
      "cell_type": "markdown",
      "source": [
        "11) A company wants to test iN a new website layout leads to a higher conversion rate (percentage oN visitors\n",
        "who make a purchase). They collect data Nrom the old and new layouts to compare.\n",
        "\n",
        "\n",
        "To generate the data use the following command:\n",
        "\n",
        "```python\n",
        "\n",
        "import numpy as <p\n",
        "\n",
        "# 50 purchases out of 1000 visitors\n",
        "\n",
        "old_layout = np.array([1] * 50 + [0] * 950)\n",
        "\n",
        "# 70 purchases out of 1000 visitors  \n",
        "\n",
        "new_layout = np.array([1] * 70 + [0] * 930)\n",
        "\n",
        "  ```\n",
        "\n",
        "Apply z-test to find which layout is successful."
      ],
      "metadata": {
        "id": "HVpbiDSd1zZY"
      }
    },
    {
      "cell_type": "markdown",
      "source": [
        "To compare the conversion rates between the old and new website layouts using a Z-test, you can follow these steps:\n",
        "\n",
        "\n",
        "Calculate the Conversion Rates: Determine the conversion rates (proportion of visitors who made a purchase) for both layouts.\n",
        "\n",
        "\n",
        "Perform a Z-test for Proportions: Use a Z-test to determine if the difference in conversion rates between the two layouts is statistically significant."
      ],
      "metadata": {
        "id": "yNJdyWP32Qpn"
      }
    },
    {
      "cell_type": "code",
      "source": [
        "import numpy as np\n",
        "from scipy import stats\n",
        "\n",
        "def z_test_proportions(old_layout, new_layout):\n",
        "    \"\"\"\n",
        "    Perform a Z-test for proportions to compare conversion rates between old and new layouts.\n",
        "\n",
        "    Parameters:\n",
        "    old_layout (array): Array of binary values (1 for purchase, 0 for no purchase) for the old layout.\n",
        "    new_layout (array): Array of binary values (1 for purchase, 0 for no purchase) for the new layout.\n",
        "\n",
        "    Returns:\n",
        "    float: Z-score for the test.\n",
        "    float: P-value of the test.\n",
        "    \"\"\"\n",
        "    # Calculating the number of successes (purchases) and total number of trials (visitors) for both layouts\n",
        "    old_successes = np.sum(old_layout)\n",
        "    old_trials = len(old_layout)\n",
        "\n",
        "    new_successes = np.sum(new_layout)\n",
        "    new_trials = len(new_layout)\n",
        "\n",
        "    # Calculating the conversion rates (proportions)\n",
        "    p_old = old_successes / old_trials\n",
        "    p_new = new_successes / new_trials\n",
        "\n",
        "    # Pooled proportion\n",
        "    p_pooled = (old_successes + new_successes) / (old_trials + new_trials)\n",
        "\n",
        "    # Standard error of the difference between proportions\n",
        "    se = np.sqrt(p_pooled * (1 - p_pooled) * ((1 / old_trials) + (1 / new_trials)))\n",
        "\n",
        "    # Z-score for the test\n",
        "    z_score = (p_new - p_old) / se\n",
        "\n",
        "    # Two-tailed p-value\n",
        "    p_value = 2 * stats.norm.cdf(-abs(z_score))\n",
        "\n",
        "    return z_score, p_value\n",
        "\n",
        "# Generate data for old and new layouts\n",
        "old_layout = np.array([1] * 50 + [0] * 950)\n",
        "new_layout = np.array([1] * 70 + [0] * 930)\n",
        "\n",
        "# Perform Z-test\n",
        "z_score, p_value = z_test_proportions(old_layout, new_layout)\n",
        "\n",
        "print(f\"Z-score: {z_score:.4f}\")\n",
        "print(f\"P-value: {p_value:.4f}\")\n",
        "\n",
        "# Interpretation of the result\n",
        "alpha = 0.05  # Significance level\n",
        "if p_value < alpha:\n",
        "    print(\"The difference in conversion rates between the old and new layouts is statistically significant.\")\n",
        "else:\n",
        "    print(\"There is no statistically significant difference in conversion rates between the old and new layouts.\")\n"
      ],
      "metadata": {
        "colab": {
          "base_uri": "https://localhost:8080/"
        },
        "id": "vf5v33gr1qYa",
        "outputId": "deaf023a-f1b3-436e-880c-d8d3a4291b3c"
      },
      "execution_count": null,
      "outputs": [
        {
          "output_type": "stream",
          "name": "stdout",
          "text": [
            "Z-score: 1.8831\n",
            "P-value: 0.0597\n",
            "There is no statistically significant difference in conversion rates between the old and new layouts.\n"
          ]
        }
      ]
    },
    {
      "cell_type": "markdown",
      "source": [
        "12. A tutoring service claims that its program improves students' exam scores. A sample oN students who\n",
        "participated in the program was taken, and their scores beNore and aNter the program were recorded.\n",
        "\n",
        "\n",
        "Use the below code to generate samples of respective arrays of marks:\n",
        "\n",
        "```python\n",
        "\n",
        "before_program = np.array([75, 80, 85, 70, 90, 78, 92, 88, 82, 87])\n",
        "\n",
        "after_program = np.array([80, 85, 90, 80, 92, 80, 95, 90, 85, 88])\n",
        "\n",
        "```\n",
        "\n",
        "Use z-test to find if the claims made by tutor are true or false."
      ],
      "metadata": {
        "id": "_x9hWBMq2iMG"
      }
    },
    {
      "cell_type": "markdown",
      "source": [
        "To evaluate whether the tutoring program has a statistically significant effect on students' exam scores using a Z-test, we can follow these steps:\n",
        "\n",
        "Calculate the Mean and Standard Deviation for Both Samples:\n",
        "\n",
        "Compute the mean and standard deviation of the scores before and after the program.\n",
        "Perform a Paired Sample Z-test:\n",
        "\n",
        "Since the data is paired (each student has a score before and after the program), a paired sample Z-test is appropriate."
      ],
      "metadata": {
        "id": "feDuq1Ft3BGP"
      }
    },
    {
      "cell_type": "code",
      "source": [
        "import numpy as np\n",
        "from scipy import stats\n",
        "\n",
        "def paired_z_test(before_program, after_program):\n",
        "    \"\"\"\n",
        "    Perform a paired Z-test to compare the means of scores before and after the program.\n",
        "\n",
        "    Parameters:\n",
        "    before_program (array): Array of exam scores before the program.\n",
        "    after_program (array): Array of exam scores after the program.\n",
        "\n",
        "    Returns:\n",
        "    float: Z-score for the test.\n",
        "    float: P-value of the test.\n",
        "    \"\"\"\n",
        "    # Calculate the differences between paired scores\n",
        "    differences = after_program - before_program\n",
        "\n",
        "    # Calculate the mean and standard deviation of the differences\n",
        "    mean_diff = np.mean(differences)\n",
        "    std_diff = np.std(differences, ddof=1)  # Use ddof=1 for sample standard deviation\n",
        "\n",
        "    # Number of pairs\n",
        "    n = len(differences)\n",
        "\n",
        "    # Standard error of the mean difference\n",
        "    se = std_diff / np.sqrt(n)\n",
        "\n",
        "    # Z-score for the test\n",
        "    z_score = mean_diff / se\n",
        "\n",
        "    # Two-tailed p-value\n",
        "    p_value = 2 * stats.norm.cdf(-abs(z_score))\n",
        "\n",
        "    return z_score, p_value\n",
        "\n",
        "# Generate data for exam scores before and after the program\n",
        "before_program = np.array([75, 80, 85, 70, 90, 78, 92, 88, 82, 87])\n",
        "after_program = np.array([80, 85, 90, 80, 92, 80, 95, 90, 85, 88])\n",
        "\n",
        "# Perform Z-test\n",
        "z_score, p_value = paired_z_test(before_program, after_program)\n",
        "\n",
        "print(f\"Z-score: {z_score:.4f}\")\n",
        "print(f\"P-value: {p_value:.4f}\")\n",
        "\n",
        "# Interpretation of the result\n",
        "alpha = 0.05  # Significance level\n",
        "if p_value < alpha:\n",
        "    print(\"The difference in exam scores before and after the program is statistically significant.\")\n",
        "else:\n",
        "    print(\"There is no statistically significant difference in exam scores before and after the program.\")\n"
      ],
      "metadata": {
        "colab": {
          "base_uri": "https://localhost:8080/"
        },
        "id": "mGS4GRTs2c1g",
        "outputId": "fd5303a9-3467-47d3-dbbc-b6adaba444b4"
      },
      "execution_count": null,
      "outputs": [
        {
          "output_type": "stream",
          "name": "stdout",
          "text": [
            "Z-score: 4.5932\n",
            "P-value: 0.0000\n",
            "The difference in exam scores before and after the program is statistically significant.\n"
          ]
        }
      ]
    },
    {
      "cell_type": "markdown",
      "source": [
        "#performing z-test"
      ],
      "metadata": {
        "id": "r7bnc5hI3Sek"
      }
    },
    {
      "cell_type": "markdown",
      "source": [
        "To perform a theoretical Z-test for paired samples, follow these steps:"
      ],
      "metadata": {
        "id": "LhYDQPus3nC4"
      }
    },
    {
      "cell_type": "markdown",
      "source": [
        "1. State the Hypotheses:\n",
        "Null Hypothesis (\n",
        "𝐻\n",
        "0\n",
        "\n",
        "​\n",
        " ): The tutoring program has no effect on the exam scores. The mean difference between scores before and after the program is zero.\n",
        "\n",
        "𝐻\n",
        "0\n",
        ":\n",
        "𝜇\n",
        "𝑑\n",
        "=\n",
        "0\n",
        "\n",
        "\n",
        "Alternative Hypothesis (\n",
        "𝐻\n",
        "𝐴\n",
        "\n",
        "\n",
        " ): The tutoring program has an effect on the exam scores. The mean difference between scores before and after the program is not zero.\n",
        "\n",
        "𝐻\n",
        "𝐴\n",
        ":\n",
        "𝜇\n",
        "𝑑\n",
        "≠\n",
        "0\n"
      ],
      "metadata": {
        "id": "2TdYCT3H3pLb"
      }
    },
    {
      "cell_type": "markdown",
      "source": [
        "2. Calculate the Differences:\n",
        "For each paired score (before and after the program), calculate the difference:\n",
        "\n",
        "\n",
        "d\n",
        "i\n",
        "​\n",
        " =after\n",
        "i\n",
        "​\n",
        " −before\n",
        "i\n",
        "​\n",
        "\n",
        "\n",
        "where\n",
        "𝑑\n",
        "𝑖\n",
        "\n",
        "  is the difference for the\n",
        "\n",
        "i-th student.\n",
        "\n",
        "\n",
        "\n",
        "Differences=[80−75,85−80,90−85,80−70,92−90,80−78,95−92,90−88,85−82,88−87]\n",
        "\n",
        "Differences=[5,5,5,10,2,2,3,2,3,1]"
      ],
      "metadata": {
        "id": "X8keUWKO38f4"
      }
    },
    {
      "cell_type": "markdown",
      "source": [
        "3. Compute the Mean and Standard Deviation of the Differences:\n",
        "Let\n",
        "𝑛\n",
        " be the number of pairs. Compute the mean difference (\n",
        "𝑑\n",
        "ˉ\n",
        "\n",
        " ) and the standard deviation of the differences (\n",
        "𝑠\n",
        "𝑑\n",
        "\n",
        " ):\n",
        "\n",
        "Mean Difference:\n",
        "\n",
        "𝑑\n",
        "ˉ\n",
        "=\n",
        "1\n",
        "𝑛\n",
        "∑\n",
        "𝑖\n",
        "=\n",
        "1\n",
        "𝑛\n",
        "𝑑\n",
        "𝑖\n",
        "\n",
        "\n",
        "\n",
        "Standard Deviation of Differences:\n",
        "\n",
        "\n",
        "s\n",
        "d\n",
        "​\n",
        " =\n",
        "srt(\n",
        "1/n-1\n",
        "​\n",
        " ∑\n",
        "i=1\n",
        "n\n",
        "​\n",
        " (d\n",
        "i\n",
        "​\n",
        " −\n",
        "d\n",
        "ˉ\n",
        " )\n",
        "2\n",
        ")\n",
        "​\n",
        "\n",
        "\n",
        "\n",
        "\n",
        "\n",
        " Mean Difference (\n",
        "𝑑\n",
        "ˉ\n",
        "\n",
        " ):\n",
        "𝑑\n",
        "ˉ\n",
        "=\n",
        "5\n",
        "+\n",
        "5\n",
        "+\n",
        "5\n",
        "+\n",
        "10\n",
        "+\n",
        "2\n",
        "+\n",
        "2\n",
        "+\n",
        "3\n",
        "+\n",
        "2\n",
        "+\n",
        "3\n",
        "+\n",
        "1/\n",
        "10\n",
        "=\n",
        "36/\n",
        "10\n",
        "=\n",
        "3.6\n",
        "\n",
        "\n",
        "\n",
        "s\n",
        "d\n",
        "​\n",
        " = sqrt(63.2/9)\n",
        "\n",
        " ≈2.66"
      ],
      "metadata": {
        "id": "69JfTnNz4RMg"
      }
    },
    {
      "cell_type": "markdown",
      "source": [
        "4. Calculate the Standard Error of the Mean Difference:\n",
        "\n",
        "SE=\n",
        "sd/sqrt(n)\n",
        "\n",
        "\n",
        "where\n",
        "𝑠\n",
        "𝑑\n",
        "\n",
        "  is the standard deviation of the differences and\n",
        "𝑛\n",
        " is the number of pairs.\n",
        "\n",
        "\n",
        "SE=sd/sqrt(n)= 2.66/sqrt(10) =0.84\n"
      ],
      "metadata": {
        "id": "gPgdQLXj43uF"
      }
    },
    {
      "cell_type": "markdown",
      "source": [
        "5. Compute the Z-Score:\n",
        "The Z-score is given by:\n",
        "\n",
        "𝑍\n",
        "=\n",
        "𝑑/SE\n",
        "\n",
        "\n",
        "\n",
        "z=d/SE = 3.6/0.84 = 4.29\n",
        "\n"
      ],
      "metadata": {
        "id": "Jw6dTk1a5Hw0"
      }
    },
    {
      "cell_type": "markdown",
      "source": [
        "6. Find the p-Value:\n",
        "Using the Z-score, you can find the p-value from the standard normal distribution. For a two-tailed test:\n",
        "\n",
        "\n",
        "p-value=2⋅Φ(−∣Z∣)\n",
        "\n",
        "where\n",
        "Φ\n",
        " is the cumulative distribution function (CDF) of the standard normal distribution.\n",
        "\n",
        "\n",
        "\n",
        " p-value= 2.Φ(-4.29) = 0.0001"
      ],
      "metadata": {
        "id": "UFf8wjxC5PXG"
      }
    },
    {
      "cell_type": "markdown",
      "source": [
        "7. Decision Rule:\n",
        "Compare the p-value to the significance level (\n",
        "\n",
        "α, typically 0.05). If the p-value is less than\n",
        "\n",
        "α, reject the null hypothesis.\n",
        "\n",
        "\n",
        "\n",
        "Compare the p-value to\n",
        "\n",
        "α=0.05. Since\n",
        "\n",
        "0.0001<0.05, you reject the null hypothesis."
      ],
      "metadata": {
        "id": "untt1pE45YZ4"
      }
    },
    {
      "cell_type": "markdown",
      "source": [
        "Conclusion:\n",
        "The tutoring program has a statistically significant effect on students' exam scores based on this analysis."
      ],
      "metadata": {
        "id": "itYGFTBr5c4b"
      }
    },
    {
      "cell_type": "markdown",
      "source": [
        "13) A pharmaceutical company wants to determine iN a new drug is eNNective in reducing blood pressure. They\n",
        "conduct a study and record blood pressure measurements beNore and aNter administering the drug.\n",
        "\n",
        "\n",
        "Use the below code to ge<erate samples of respective arrays of blood pressure:\n",
        "\n",
        "\n",
        "```python\n",
        "\n",
        "before_drug = np.array([145, 150, 140, 135, 155, 160, 152, 148, 130, 138])\n",
        "\n",
        "after_drug = np.array([130, 140, 132, 128, 145, 148, 138, 136, 125, 130])\n",
        "\n",
        "  ```\n",
        "\n",
        "\n",
        "Implement z-test to find if the drug really works or not."
      ],
      "metadata": {
        "id": "7uZELZsR7Wv9"
      }
    },
    {
      "cell_type": "markdown",
      "source": [],
      "metadata": {
        "id": "DpIw3jhj8CpJ"
      }
    },
    {
      "cell_type": "code",
      "source": [
        "import numpy as np\n",
        "from scipy import stats\n",
        "\n",
        "def z_test_for_effect(before_drug, after_drug):\n",
        "    \"\"\"\n",
        "    Perform a Z-test to compare blood pressure before and after administering the drug.\n",
        "\n",
        "    Parameters:\n",
        "    before_drug (array): Array of blood pressure measurements before the drug.\n",
        "    after_drug (array): Array of blood pressure measurements after the drug.\n",
        "\n",
        "    Returns:\n",
        "    float: Z-score for the test.\n",
        "    float: P-value of the test.\n",
        "    \"\"\"\n",
        "    # Calculate the differences between paired measurements\n",
        "    differences = before_drug - after_drug\n",
        "\n",
        "    # Calculate the mean and standard deviation of the differences\n",
        "    mean_diff = np.mean(differences)\n",
        "    std_diff = np.std(differences, ddof=1)  # Use ddof=1 for sample standard deviation\n",
        "\n",
        "    # Number of pairs\n",
        "    n = len(differences)\n",
        "\n",
        "    # Standard error of the mean difference\n",
        "    se = std_diff / np.sqrt(n)\n",
        "\n",
        "    # Z-score for the test\n",
        "    z_score = mean_diff / se\n",
        "\n",
        "    # Two-tailed p-value\n",
        "    p_value = 2 * stats.norm.cdf(-abs(z_score))\n",
        "\n",
        "    return z_score, p_value\n",
        "\n",
        "# Generate data for blood pressure measurements before and after the drug\n",
        "before_drug = np.array([145, 150, 140, 135, 155, 160, 152, 148, 130, 138])\n",
        "after_drug = np.array([130, 140, 132, 128, 145, 148, 138, 136, 125, 130])\n",
        "\n",
        "# Perform Z-test\n",
        "z_score, p_value = z_test_for_effect(before_drug, after_drug)\n",
        "\n",
        "print(f\"Z-score: {z_score:.4f}\")\n",
        "print(f\"P-value: {p_value:.4f}\")\n",
        "\n",
        "# Interpretation of the result\n",
        "alpha = 0.05  # Significance level\n",
        "if p_value < alpha:\n",
        "    print(\"The drug has a statistically significant effect on reducing blood pressure.\")\n",
        "else:\n",
        "    print(\"There is no statistically significant effect of the drug on blood pressure.\")\n"
      ],
      "metadata": {
        "colab": {
          "base_uri": "https://localhost:8080/"
        },
        "id": "m7vxWHfb3P4K",
        "outputId": "0e806e4b-8a2d-4bc5-c50a-0d70630e9aba"
      },
      "execution_count": null,
      "outputs": [
        {
          "output_type": "stream",
          "name": "stdout",
          "text": [
            "Z-score: 10.0499\n",
            "P-value: 0.0000\n",
            "The drug has a statistically significant effect on reducing blood pressure.\n"
          ]
        }
      ]
    },
    {
      "cell_type": "markdown",
      "source": [
        "29U A custo:er service department claims that their average response time is less than 5 minutes A sample\n",
        "of recent customer interactions was taken, and the response times were recorded.\n",
        "\n",
        "\n",
        "Implement the below code to ge3erate the array of respo3se time:\n",
        "\n",
        "```python\n",
        "\n",
        "response_times = 3p.array([4.3, 3.8, 5.1, 4.9, 4.7, 4.2, 5.2, 4.5, 4.6, 4.4])\n",
        "\n",
        "```\n",
        "\n",
        "Implement z-test to find the claims made by customer service department are tru or false"
      ],
      "metadata": {
        "id": "U_b2m9QZ8K2b"
      }
    },
    {
      "cell_type": "code",
      "source": [
        "import numpy as np\n",
        "from scipy import stats\n",
        "\n",
        "def z_test_response_time(response_times, hypothesized_mean=5):\n",
        "    \"\"\"\n",
        "    Perform a Z-test to determine if the average response time is less than the hypothesized mean.\n",
        "\n",
        "    Parameters:\n",
        "    response_times (array): Array of response times.\n",
        "    hypothesized_mean (float): Hypothesized population mean for the test.\n",
        "\n",
        "    Returns:\n",
        "    float: Z-score for the test.\n",
        "    float: P-value of the test.\n",
        "    \"\"\"\n",
        "    # Sample mean and standard deviation\n",
        "    sample_mean = np.mean(response_times)\n",
        "    sample_std = np.std(response_times, ddof=1)  # Use ddof=1 for sample standard deviation\n",
        "\n",
        "    # Number of samples\n",
        "    n = len(response_times)\n",
        "\n",
        "    # Standard error of the mean\n",
        "    se = sample_std / np.sqrt(n)\n",
        "\n",
        "    # Z-score for the test\n",
        "    z_score = (sample_mean - hypothesized_mean) / se\n",
        "\n",
        "    # One-tailed p-value\n",
        "    p_value = stats.norm.cdf(z_score)\n",
        "\n",
        "    return z_score, p_value\n",
        "\n",
        "# Generate data for response times\n",
        "response_times = np.array([4.3, 3.8, 5.1, 4.9, 4.7, 4.2, 5.2, 4.5, 4.6, 4.4])\n",
        "\n",
        "# Perform Z-test\n",
        "z_score, p_value = z_test_response_time(response_times)\n",
        "\n",
        "print(f\"Z-score: {z_score:.4f}\")\n",
        "print(f\"P-value: {p_value:.4f}\")\n",
        "\n",
        "# Interpretation of the result\n",
        "alpha = 0.05  # Signif\n"
      ],
      "metadata": {
        "colab": {
          "base_uri": "https://localhost:8080/"
        },
        "id": "Dqq3nRlY8Jbu",
        "outputId": "2d778659-9eae-4fa0-b788-a03d3748e129"
      },
      "execution_count": null,
      "outputs": [
        {
          "output_type": "stream",
          "name": "stdout",
          "text": [
            "Z-score: -3.1845\n",
            "P-value: 0.0007\n"
          ]
        }
      ]
    },
    {
      "cell_type": "code",
      "source": [],
      "metadata": {
        "id": "wMYc5dRz8t2H"
      },
      "execution_count": null,
      "outputs": []
    },
    {
      "cell_type": "markdown",
      "source": [
        "2£U A company is testing two different website layouts to see which one leads to higher click-through ratesV\n",
        "Write a Python function to perfor: an A/B test analysis, including calculating the t-statistic, degrees of\n",
        "freedom, and p-value.\n",
        "\n",
        "\n",
        "Use the followi3g data:\n",
        "\n",
        "```python\n",
        "\n",
        "layout_a_clicks = [28, 32, 33, 29, 31, 34, 30, 35, 36, 37]\n",
        "\n",
        "layout_b_clicks = [40, 41, 38, 42, 39, 44, 43, 41, 45, 47]"
      ],
      "metadata": {
        "id": "ngrsrYh-8vhc"
      }
    },
    {
      "cell_type": "code",
      "source": [
        "import numpy as np\n",
        "from scipy import stats\n",
        "\n",
        "def ab_test_analysis(layout_a_clicks, layout_b_clicks):\n",
        "    \"\"\"\n",
        "    Perform A/B test analysis to compare click-through rates between two layouts.\n",
        "\n",
        "    Parameters:\n",
        "    layout_a_clicks (list): Click-through rates for Layout A.\n",
        "    layout_b_clicks (list): Click-through rates for Layout B.\n",
        "\n",
        "    Returns:\n",
        "    float: T-statistic for the test.\n",
        "    float: Degrees of freedom.\n",
        "    float: P-value of the test.\n",
        "    \"\"\"\n",
        "    # Convert lists to numpy arrays\n",
        "    layout_a_clicks = np.array(layout_a_clicks)\n",
        "    layout_b_clicks = np.array(layout_b_clicks)\n",
        "\n",
        "    # Sample means\n",
        "    mean_a = np.mean(layout_a_clicks)\n",
        "    mean_b = np.mean(layout_b_clicks)\n",
        "\n",
        "    # Sample standard deviations\n",
        "    std_a = np.std(layout_a_clicks, ddof=1)\n",
        "    std_b = np.std(layout_b_clicks, ddof=1)\n",
        "\n",
        "    # Sample sizes\n",
        "    n_a = len(layout_a_clicks)\n",
        "    n_b = len(layout_b_clicks)\n",
        "\n",
        "    # T-statistic\n",
        "    t_statistic = (mean_a - mean_b) / np.sqrt((std_a**2 / n_a) + (std_b**2 / n_b))\n",
        "\n",
        "    # Degrees of freedom (Welch's t-test)\n",
        "    df = ((std_a**2 / n_a + std_b**2 / n_b) ** 2) / \\\n",
        "         (((std_a**2 / n_a) ** 2 / (n_a - 1)) + ((std_b**2 / n_b) ** 2 / (n_b - 1)))\n",
        "\n",
        "    # Two-tailed p-value\n",
        "    p_value = 2 * stats.t.cdf(-abs(t_statistic), df=df)\n",
        "\n",
        "    return t_statistic, df, p_value\n",
        "\n",
        "# Data for click-through rates\n",
        "layout_a_clicks = [28, 32, 33, 29, 31, 34, 30, 35, 36, 37]\n",
        "layout_b_clicks = [40, 41, 38, 42, 39, 44, 43, 41, 45, 47]\n",
        "\n",
        "# Perform A/B test analysis\n",
        "t_statistic, df, p_value = ab_test_analysis(layout_a_clicks, layout_b_clicks)\n",
        "\n",
        "print(f\"T-statistic: {t_statistic:.4f}\")\n",
        "print(f\"Degrees of freedom: {df:.2f}\")\n",
        "print(f\"P-value: {p_value:.4f}\")\n",
        "\n",
        "# Interpretation of the result\n",
        "alpha = 0.05  # Significance level\n",
        "if p_value < alpha:\n",
        "    print(\"There is a significant difference in click-through rates between Layout A and Layout B.\")\n",
        "else:\n",
        "    print(\"There is no significant difference in click-through rates between Layout A and Layout B.\")\n"
      ],
      "metadata": {
        "colab": {
          "base_uri": "https://localhost:8080/"
        },
        "id": "4uS6PJyG83h4",
        "outputId": "26b3d087-e9ce-40b6-c878-c4739cf1eada"
      },
      "execution_count": null,
      "outputs": [
        {
          "output_type": "stream",
          "name": "stdout",
          "text": [
            "T-statistic: -7.2981\n",
            "Degrees of freedom: 17.88\n",
            "P-value: 0.0000\n",
            "There is a significant difference in click-through rates between Layout A and Layout B.\n"
          ]
        }
      ]
    },
    {
      "cell_type": "markdown",
      "source": [
        "16) A pharmaceutical company wants to determine if a new drug is :ore effective than an existing drug in\n",
        "reducing cholesterol levelsV Create a program to analyze the clinical trial data and calculate the tstatistic and p-value for the treatment effect.\n",
        "\n",
        "\n",
        "Use the following data of cholestrol level:\n",
        "\n",
        "```python\n",
        "\n",
        "existi3g_drug_levels = [180, 182, 175, 185, 178, 176, 172, 184, 179, 183]\n",
        "\n",
        "3ew_drug_levels = [170, 172, 165, 168, 175, 173, 170, 178, 172, 176]"
      ],
      "metadata": {
        "id": "aJlIbY3S9JWo"
      }
    },
    {
      "cell_type": "code",
      "source": [
        "import numpy as np\n",
        "from scipy import stats\n",
        "\n",
        "def t_test_cholesterol(existing_drug_levels, new_drug_levels):\n",
        "    \"\"\"\n",
        "    Perform a t-test to compare cholesterol levels between existing and new drugs.\n",
        "\n",
        "    Parameters:\n",
        "    existing_drug_levels (list): Cholesterol levels for the existing drug.\n",
        "    new_drug_levels (list): Cholesterol levels for the new drug.\n",
        "\n",
        "    Returns:\n",
        "    float: T-statistic for the test.\n",
        "    float: Degrees of freedom.\n",
        "    float: P-value of the test.\n",
        "    \"\"\"\n",
        "    # Convert lists to numpy arrays\n",
        "    existing_drug_levels = np.array(existing_drug_levels)\n",
        "    new_drug_levels = np.array(new_drug_levels)\n",
        "\n",
        "    # Sample means\n",
        "    mean_existing = np.mean(existing_drug_levels)\n",
        "    mean_new = np.mean(new_drug_levels)\n",
        "\n",
        "    # Sample standard deviations\n",
        "    std_existing = np.std(existing_drug_levels, ddof=1)\n",
        "    std_new = np.std(new_drug_levels, ddof=1)\n",
        "\n",
        "    # Sample sizes\n",
        "    n_existing = len(existing_drug_levels)\n",
        "    n_new = len(new_drug_levels)\n",
        "\n",
        "    # T-statistic\n",
        "    t_statistic = (mean_existing - mean_new) / np.sqrt((std_existing**2 / n_existing) + (std_new**2 / n_new))\n",
        "\n",
        "    # Degrees of freedom (Welch's t-test)\n",
        "    df = ((std_existing**2 / n_existing + std_new**2 / n_new) ** 2) / \\\n",
        "         (((std_existing**2 / n_existing) ** 2 / (n_existing - 1)) + ((std_new**2 / n_new) ** 2 / (n_new - 1)))\n",
        "\n",
        "    # One-tailed p-value\n",
        "    p_value = stats.t.cdf(t_statistic, df=df)\n",
        "\n",
        "    return t_statistic, df, p_value\n",
        "\n",
        "# Data for cholesterol levels\n",
        "existing_drug_levels = [180, 182, 175, 185, 178, 176, 172, 184, 179, 183]\n",
        "new_drug_levels = [170, 172, 165, 168, 175, 173, 170, 178, 172, 176]\n",
        "\n",
        "# Perform t-test\n",
        "t_statistic, df, p_value = t_test_cholesterol(existing_drug_levels, new_drug_levels)\n",
        "\n",
        "print(f\"T-statistic: {t_statistic:.4f}\")\n",
        "print(f\"Degrees of freedom: {df:.2f}\")\n",
        "print(f\"P-value: {p_value:.4f}\")\n",
        "\n",
        "# Interpretation of the result\n",
        "alpha = 0.05  # Significance level\n",
        "if p_value < alpha:\n",
        "    print(\"The new drug is significantly more effective than the existing drug in reducing cholesterol levels.\")\n",
        "else:\n",
        "    print(\"There is no significant difference between the new drug and the existing drug in reducing cholesterol levels.\")\n"
      ],
      "metadata": {
        "colab": {
          "base_uri": "https://localhost:8080/"
        },
        "id": "cEoaMKeL9H7W",
        "outputId": "4c200029-9946-4358-a454-c0d003eabe9b"
      },
      "execution_count": null,
      "outputs": [
        {
          "output_type": "stream",
          "name": "stdout",
          "text": [
            "T-statistic: 4.1405\n",
            "Degrees of freedom: 17.87\n",
            "P-value: 0.9997\n",
            "There is no significant difference between the new drug and the existing drug in reducing cholesterol levels.\n"
          ]
        }
      ]
    },
    {
      "cell_type": "markdown",
      "source": [
        "17) A school district introduces an educational intervention progra: to improve math scores Write a Python\n",
        "function to analyze pre- and post-intervention test scores, calculating the t-statistic and p-value to\n",
        "determine if the intervention had a significant impact.\n",
        "\n",
        "\n",
        "Use the following data of test score:\n",
        "\n",
        "\n",
        "  ```python\n",
        "\n",
        "  pre_interventio3_scores = [80, 85, 90, 75, 88, 82, 92, 78, 85, 87]\n",
        "\n",
        "  post_interventio3_scores = [90, 92, 88, 92, 95, 91, 96, 93, 89, 93]"
      ],
      "metadata": {
        "id": "NXUnUjHr9qlL"
      }
    },
    {
      "cell_type": "code",
      "source": [
        "import numpy as np\n",
        "from scipy import stats\n",
        "\n",
        "def paired_t_test(pre_scores, post_scores):\n",
        "    \"\"\"\n",
        "    Perform a paired t-test to compare test scores before and after an intervention.\n",
        "\n",
        "    Parameters:\n",
        "    pre_scores (list): Test scores before the intervention.\n",
        "    post_scores (list): Test scores after the intervention.\n",
        "\n",
        "    Returns:\n",
        "    float: T-statistic for the test.\n",
        "    float: Degrees of freedom.\n",
        "    float: P-value of the test.\n",
        "    \"\"\"\n",
        "    # Convert lists to numpy arrays\n",
        "    pre_scores = np.array(pre_scores)\n",
        "    post_scores = np.array(post_scores)\n",
        "\n",
        "    # Calculate differences\n",
        "    differences = post_scores - pre_scores\n",
        "\n",
        "    # Sample mean of differences\n",
        "    mean_diff = np.mean(differences)\n",
        "\n",
        "    # Sample standard deviation of differences\n",
        "    std_diff = np.std(differences, ddof=1)\n",
        "\n",
        "    # Number of pairs\n",
        "    n = len(differences)\n",
        "\n",
        "    # T-statistic\n",
        "    t_statistic = mean_diff / (std_diff / np.sqrt(n))\n",
        "\n",
        "    # Degrees of freedom\n",
        "    df = n - 1\n",
        "\n",
        "    # Two-tailed p-value\n",
        "    p_value = stats.t.sf(np.abs(t_statistic), df=df) * 2\n",
        "\n",
        "    return t_statistic, df, p_value\n",
        "\n",
        "# Data for test scores\n",
        "pre_intervention_scores = [80, 85, 90, 75, 88, 82, 92, 78, 85, 87]\n",
        "post_intervention_scores = [90, 92, 88, 92, 95, 91, 96, 93, 89, 93]\n",
        "\n",
        "# Perform paired t-test\n",
        "t_statistic, df, p_value = paired_t_test(pre_intervention_scores, post_intervention_scores)\n",
        "\n",
        "print(f\"T-statistic: {t_statistic:.4f}\")\n",
        "print(f\"Degrees of freedom: {df}\")\n",
        "print(f\"P-value: {p_value:.4f}\")\n",
        "\n",
        "# Interpretation of the result\n",
        "alpha = 0.05  # Significance level\n",
        "if p_value < alpha:\n",
        "    print(\"The intervention had a significant impact on math test scores.\")\n",
        "else:\n",
        "    print(\"There is no significant difference in math test scores due to the intervention.\")\n"
      ],
      "metadata": {
        "colab": {
          "base_uri": "https://localhost:8080/"
        },
        "id": "EkynHA_29pd3",
        "outputId": "647ee0f7-b1a9-4102-ceb5-7c257b90dc0d"
      },
      "execution_count": null,
      "outputs": [
        {
          "output_type": "stream",
          "name": "stdout",
          "text": [
            "T-statistic: 4.4284\n",
            "Degrees of freedom: 9\n",
            "P-value: 0.0017\n",
            "The intervention had a significant impact on math test scores.\n"
          ]
        }
      ]
    },
    {
      "cell_type": "markdown",
      "source": [
        "18) An HR department wants to investigate i@ there's a gender-based salary gap within the company. Develop\n",
        "a program to analyze salary data, calculate the t-statistic, and determine i@ there's a statistically\n",
        "signi@icant difference between the average salaries o@ male and @emale employees.\n",
        "\n",
        "\n",
        "Use the below code to generate synthetic dataY\n",
        "```python\n",
        "\n",
        "# Generate synthetic salary data for male and female employees\n",
        "\n",
        "np.random.seed(0)  # For reproducibility\n",
        "\n",
        "male_salaries = np.random.normal(loc=50000, scale=10000, size=20)\n",
        "\n",
        "female_salaries = np.random.normal(loc=55000, scale=9000, size=20)"
      ],
      "metadata": {
        "id": "CJ8hTv9J-TVq"
      }
    },
    {
      "cell_type": "code",
      "source": [
        "import numpy as np\n",
        "from scipy import stats\n",
        "\n",
        "def independent_t_test(sample1, sample2):\n",
        "    \"\"\"\n",
        "    Perform an independent two-sample t-test to compare the means of two samples.\n",
        "\n",
        "    Parameters:\n",
        "    sample1 (array-like): Data for the first sample.\n",
        "    sample2 (array-like): Data for the second sample.\n",
        "\n",
        "    Returns:\n",
        "    float: T-statistic for the test.\n",
        "    float: Degrees of freedom.\n",
        "    float: P-value of the test.\n",
        "    \"\"\"\n",
        "    # Convert lists to numpy arrays\n",
        "    sample1 = np.array(sample1)\n",
        "    sample2 = np.array(sample2)\n",
        "\n",
        "    # Sample means\n",
        "    mean1 = np.mean(sample1)\n",
        "    mean2 = np.mean(sample2)\n",
        "\n",
        "    # Sample variances\n",
        "    var1 = np.var(sample1, ddof=1)\n",
        "    var2 = np.var(sample2, ddof=1)\n",
        "\n",
        "    # Sample sizes\n",
        "    n1 = len(sample1)\n",
        "    n2 = len(sample2)\n",
        "\n",
        "    # Calculating the t-statistic\n",
        "    t_statistic = (mean1 - mean2) / np.sqrt((var1 / n1) + (var2 / n2))\n",
        "\n",
        "    # Calculating degrees of freedom\n",
        "    df = ((var1 / n1 + var2 / n2) ** 2) / (( (var1 / n1) ** 2 / (n1 - 1) ) + ( (var2 / n2) ** 2 / (n2 - 1) ))\n",
        "\n",
        "    # Calculating two-tailed p-value\n",
        "    p_value = stats.t.sf(np.abs(t_statistic), df) * 2\n",
        "\n",
        "    return t_statistic, df, p_value\n",
        "\n",
        "# Generate synthetic salary data\n",
        "np.random.seed(0)  # For reproducibility\n",
        "male_salaries = np.random.normal(loc=50000, scale=10000, size=20)\n",
        "female_salaries = np.random.normal(loc=55000, scale=9000, size=20)\n",
        "\n",
        "# Perform independent t-test\n",
        "t_statistic, df, p_value = independent_t_test(male_salaries, female_salaries)\n",
        "\n",
        "print(f\"T-statistic: {t_statistic:.4f}\")\n",
        "print(f\"Degrees of freedom: {df:.2f}\")\n",
        "print(f\"P-value: {p_value:.4f}\")\n",
        "\n",
        "# Interpretation of the result\n",
        "alpha = 0.05  # Significance level\n",
        "if p_value < alpha:\n",
        "    print(\"There is a significant difference in average salaries between male and female employees.\")\n",
        "else:\n",
        "    print(\"There is no significant difference in average salaries between male and female employees.\")\n"
      ],
      "metadata": {
        "colab": {
          "base_uri": "https://localhost:8080/"
        },
        "id": "KXT00r7X-N3z",
        "outputId": "2f11bdf5-290f-48bb-aa7f-6663d6d5c46b"
      },
      "execution_count": null,
      "outputs": [
        {
          "output_type": "stream",
          "name": "stdout",
          "text": [
            "T-statistic: 0.0611\n",
            "Degrees of freedom: 36.17\n",
            "P-value: 0.9516\n",
            "There is no significant difference in average salaries between male and female employees.\n"
          ]
        }
      ]
    },
    {
      "cell_type": "markdown",
      "source": [
        "19) A manufacturer produces two different versions of a product and wants to compare their quality scores.\n",
        "Create a Python @unction to analyze quality assessment data, calculate the t-statistic, and decide\n",
        "whether there's a signi@icant difference in quality between the two versions.\n",
        "\n",
        "\n",
        "Use the following dataY\n",
        "```python\n",
        "\n",
        "version1_scores = [85, 88, 82, 89, 87, 84, 90, 88, 85, 86, 91, 83, 87, 84, 89, 86, 84, 88, 85, 86, 89, 90, 87, 88, 85]\n",
        "\n",
        "version2_scores = [80, 78, 83, 81, 79, 82, 76, 80, 78, 81, 77, 82, 80, 79, 82, 79, 80, 81, 79, 82, 79, 78, 80, 81, 82]"
      ],
      "metadata": {
        "id": "FyFecuO3-1qB"
      }
    },
    {
      "cell_type": "code",
      "source": [
        "import numpy as np\n",
        "from scipy import stats\n",
        "\n",
        "def independent_t_test(sample1, sample2):\n",
        "    \"\"\"\n",
        "    Perform an independent two-sample t-test to compare the means of two samples.\n",
        "\n",
        "    Parameters:\n",
        "    sample1 (array-like): Data for the first sample.\n",
        "    sample2 (array-like): Data for the second sample.\n",
        "\n",
        "    Returns:\n",
        "    float: T-statistic for the test.\n",
        "    float: Degrees of freedom.\n",
        "    float: P-value of the test.\n",
        "    \"\"\"\n",
        "    # Convert lists to numpy arrays\n",
        "    sample1 = np.array(sample1)\n",
        "    sample2 = np.array(sample2)\n",
        "\n",
        "    # Sample means\n",
        "    mean1 = np.mean(sample1)\n",
        "    mean2 = np.mean(sample2)\n",
        "\n",
        "    # Sample variances\n",
        "    var1 = np.var(sample1, ddof=1)\n",
        "    var2 = np.var(sample2, ddof=1)\n",
        "\n",
        "    # Sample sizes\n",
        "    n1 = len(sample1)\n",
        "    n2 = len(sample2)\n",
        "\n",
        "    # Calculating the t-statistic\n",
        "    t_statistic = (mean1 - mean2) / np.sqrt((var1 / n1) + (var2 / n2))\n",
        "\n",
        "    # Calculating degrees of freedom\n",
        "    df = ((var1 / n1 + var2 / n2) ** 2) / (( (var1 / n1) ** 2 / (n1 - 1) ) + ( (var2 / n2) ** 2 / (n2 - 1) ))\n",
        "\n",
        "    # Calculating two-tailed p-value\n",
        "    p_value = stats.t.sf(np.abs(t_statistic), df) * 2\n",
        "\n",
        "    return t_statistic, df, p_value\n",
        "\n",
        "# Data for the two versions\n",
        "version1_scores = [85, 88, 82, 89, 87, 84, 90, 88, 85, 86, 91, 83, 87, 84, 89, 86, 84, 88, 85, 86, 89, 90, 87, 88, 85]\n",
        "version2_scores = [80, 78, 83, 81, 79, 82, 76, 80, 78, 81, 77, 82, 80, 79, 82, 79, 80, 81, 79, 82, 79, 78, 80, 81, 82]\n",
        "\n",
        "# Perform independent t-test\n",
        "t_statistic, df, p_value = independent_t_test(version1_scores, version2_scores)\n",
        "\n",
        "print(f\"T-statistic: {t_statistic:.4f}\")\n",
        "print(f\"Degrees of freedom: {df:.2f}\")\n",
        "print(f\"P-value: {p_value:.4f}\")\n",
        "\n",
        "# Interpretation of the result\n",
        "alpha = 0.05  # Significance level\n",
        "if p_value < alpha:\n",
        "    print(\"There is a significant difference in quality scores between the two versions.\")\n",
        "else:\n",
        "    print(\"There is no significant difference in quality scores between the two versions.\")\n"
      ],
      "metadata": {
        "colab": {
          "base_uri": "https://localhost:8080/"
        },
        "id": "i24CUzit-0di",
        "outputId": "cb8736f0-734b-461a-f8c3-dff9f58c505f"
      },
      "execution_count": null,
      "outputs": [
        {
          "output_type": "stream",
          "name": "stdout",
          "text": [
            "T-statistic: 11.3258\n",
            "Degrees of freedom: 44.47\n",
            "P-value: 0.0000\n",
            "There is a significant difference in quality scores between the two versions.\n"
          ]
        }
      ]
    },
    {
      "cell_type": "code",
      "source": [],
      "metadata": {
        "id": "n_oo1NNw_TRd"
      },
      "execution_count": null,
      "outputs": []
    },
    {
      "cell_type": "markdown",
      "source": [
        " 20. A restaurant chain collects customer satisfaction scores for two different branches. Write a program to\n",
        "analyze the scores, calculate the t-statistic, and determine if there's a statistically signi@icant difference in\n",
        "customer satisfaction between the branches.\n",
        "\n",
        "\n",
        "Use the below data of scores:\n",
        "\n",
        "  ```python\n",
        "\n",
        "branch_a_scores = [4, 5, 3, 4, 5, 4, 5, 3, 4, 4, 5, 4, 4, 3, 4, 5, 5, 4, 3, 4, 5, 4, 3, 5, 4, 4, 5, 3, 4, 5, 4]\n",
        "\n",
        "branch_b_scores = [3, 4, 2, 3, 4, 3, 4, 2, 3, 3, 4, 3, 3, 2, 3, 4, 4, 3, 2, 3, 4, 3, 2, 4, 3, 3, 4, 2, 3, 4, 3]"
      ],
      "metadata": {
        "id": "3_I7u7oC_UUO"
      }
    },
    {
      "cell_type": "code",
      "source": [
        "import numpy as np\n",
        "from scipy import stats\n",
        "\n",
        "def independent_t_test(sample1, sample2):\n",
        "    \"\"\"\n",
        "    Perform an independent two-sample t-test to compare the means of two samples.\n",
        "\n",
        "    Parameters:\n",
        "    sample1 (array-like): Data for the first sample.\n",
        "    sample2 (array-like): Data for the second sample.\n",
        "\n",
        "    Returns:\n",
        "    float: T-statistic for the test.\n",
        "    float: Degrees of freedom.\n",
        "    float: P-value of the test.\n",
        "    \"\"\"\n",
        "    # Convert lists to numpy arrays\n",
        "    sample1 = np.array(sample1)\n",
        "    sample2 = np.array(sample2)\n",
        "\n",
        "    # Sample means\n",
        "    mean1 = np.mean(sample1)\n",
        "    mean2 = np.mean(sample2)\n",
        "\n",
        "    # Sample variances\n",
        "    var1 = np.var(sample1, ddof=1)\n",
        "    var2 = np.var(sample2, ddof=1)\n",
        "\n",
        "    # Sample sizes\n",
        "    n1 = len(sample1)\n",
        "    n2 = len(sample2)\n",
        "\n",
        "    # Calculating the t-statistic\n",
        "    t_statistic = (mean1 - mean2) / np.sqrt((var1 / n1) + (var2 / n2))\n",
        "\n",
        "    # Calculating degrees of freedom\n",
        "    df = ((var1 / n1 + var2 / n2) ** 2) / (( (var1 / n1) ** 2 / (n1 - 1) ) + ( (var2 / n2) ** 2 / (n2 - 1) ))\n",
        "\n",
        "    # Calculating two-tailed p-value\n",
        "    p_value = stats.t.sf(np.abs(t_statistic), df) * 2\n",
        "\n",
        "    return t_statistic, df, p_value\n",
        "\n",
        "# Data for the two branches\n",
        "branch_a_scores = [4, 5, 3, 4, 5, 4, 5, 3, 4, 4, 5, 4, 4, 3, 4, 5, 5, 4, 3, 4, 5, 4, 3, 5, 4, 4, 5, 3, 4, 5, 4]\n",
        "branch_b_scores = [3, 4, 2, 3, 4, 3, 4, 2, 3, 3, 4, 3, 3, 2, 3, 4, 4, 3, 2, 3, 4, 3, 2, 4, 3, 3, 4, 2, 3, 4, 3]\n",
        "\n",
        "# Perform independent t-test\n",
        "t_statistic, df, p_value = independent_t_test(branch_a_scores, branch_b_scores)\n",
        "\n",
        "print(f\"T-statistic: {t_statistic:.4f}\")\n",
        "print(f\"Degrees of freedom: {df:.2f}\")\n",
        "print(f\"P-value: {p_value:.4f}\")\n",
        "\n",
        "# Interpretation of the result\n",
        "alpha = 0.05  # Significance level\n",
        "if p_value < alpha:\n",
        "    print(\"There is a significant difference in customer satisfaction scores between the two branches.\")\n",
        "else:\n",
        "    print(\"There is no significant difference in customer satisfaction scores between the two branches.\")\n"
      ],
      "metadata": {
        "colab": {
          "base_uri": "https://localhost:8080/"
        },
        "id": "FTsGn6qD_fe9",
        "outputId": "20beadf8-1afb-4de2-ea78-4329e12b32a6"
      },
      "execution_count": null,
      "outputs": [
        {
          "output_type": "stream",
          "name": "stdout",
          "text": [
            "T-statistic: 5.4801\n",
            "Degrees of freedom: 60.00\n",
            "P-value: 0.0000\n",
            "There is a significant difference in customer satisfaction scores between the two branches.\n"
          ]
        }
      ]
    },
    {
      "cell_type": "markdown",
      "source": [
        "21) A political analyst wants to determine if there is a significant association between age groups and voter\n",
        "preferencesFCandidate A or Candidate B). They collect data from a sample of 500 voters and classify\n",
        "them into different age groups and candidate pre@erences. Perform a Chi-Square test to determine if\n",
        "there is a significant association between age groups and voter preferences.\n",
        "\n",
        "\n",
        "Use the below code to generate data:\n",
        "\n",
        "```python\n",
        "\n",
        "np.random.seed(0)\n",
        "\n",
        "age_groups = np.random.choice([ 18 30 , 31 50 , 51+', 51+'], size=30)\n",
        "\n",
        "voter_preferences = np.random.choice(['Candidate A', 'Candidate B'], size=30)"
      ],
      "metadata": {
        "id": "p2CuZhsV_xFf"
      }
    },
    {
      "cell_type": "code",
      "source": [
        "import numpy as np\n",
        "import pandas as pd\n",
        "from scipy import stats\n",
        "\n",
        "def chi_square_test(age_groups, voter_preferences):\n",
        "    \"\"\"\n",
        "    Perform a Chi-Square test for independence to determine if there is a significant association\n",
        "    between age groups and voter preferences.\n",
        "\n",
        "    Parameters:\n",
        "    age_groups (array-like): Array of age group classifications.\n",
        "    voter_preferences (array-like): Array of voter preferences.\n",
        "\n",
        "    Returns:\n",
        "    float: Chi-Square statistic.\n",
        "    float: p-value of the test.\n",
        "    \"\"\"\n",
        "    # Create a DataFrame from the provided data\n",
        "    data = pd.DataFrame({'Age Group': age_groups, 'Voter Preference': voter_preferences})\n",
        "\n",
        "    # Create a contingency table\n",
        "    contingency_table = pd.crosstab(data['Age Group'], data['Voter Preference'])\n",
        "\n",
        "    # Perform the Chi-Square test\n",
        "    chi2_stat, p_value, _, _ = stats.chi2_contingency(contingency_table)\n",
        "\n",
        "    return chi2_stat, p_value\n",
        "\n",
        "# Generate synthetic data\n",
        "np.random.seed(0)\n",
        "\n",
        "age_groups = np.random.choice(['18-30', '31-50', '51+'], size=500)\n",
        "voter_preferences = np.random.choice(['Candidate A', 'Candidate B'], size=500)\n",
        "\n",
        "# Perform Chi-Square test\n",
        "chi2_stat, p_value = chi_square_test(age_groups, voter_preferences)\n",
        "\n",
        "print(f\"Chi-Square Statistic: {chi2_stat:.4f}\")\n",
        "print(f\"P-value: {p_value:.4f}\")\n",
        "\n",
        "# Interpretation of the result\n",
        "alpha = 0.05  # Significance level\n",
        "if p_value < alpha:\n",
        "    print(\"There is a significant association between age groups and voter preferences.\")\n",
        "else:\n",
        "    print(\"There is no significant association between age groups and voter preferences.\")\n"
      ],
      "metadata": {
        "colab": {
          "base_uri": "https://localhost:8080/"
        },
        "id": "DBQXVGSM_v2g",
        "outputId": "41f4916b-15c8-4f12-c36f-6fc7819eaee9"
      },
      "execution_count": null,
      "outputs": [
        {
          "output_type": "stream",
          "name": "stdout",
          "text": [
            "Chi-Square Statistic: 0.8780\n",
            "P-value: 0.6447\n",
            "There is no significant association between age groups and voter preferences.\n"
          ]
        }
      ]
    },
    {
      "cell_type": "markdown",
      "source": [
        " 22) A company conducted a customer satisfaction survey to determine if there is a significant relationship\n",
        "between product satisfaction levels (Satisfied, Neutral, Dissatisfied) and the region where customers are\n",
        "located (East, West, North, South). The survey data is summarized in a contingency table. Conduct a ChiSquare test to determine if there is a significant relationship between product satisfaction levels and\n",
        "customer regions.\n",
        "\n",
        "\n",
        "Sample data:\n",
        "\n",
        "```python\n",
        "\n",
        "#Sample data: Product satisfaction levels (rows) vs. Customer regions (columns)\n",
        "\n",
        "data = np.array([[50, 30, 40, 20], [30, 40, 30, 50], [20, 30, 40, 30]])"
      ],
      "metadata": {
        "id": "afMUODAMAM78"
      }
    },
    {
      "cell_type": "code",
      "source": [
        "import numpy as np\n",
        "from scipy import stats\n",
        "\n",
        "def chi_square_test(contingency_table):\n",
        "    \"\"\"\n",
        "    Perform a Chi-Square test for independence to determine if there is a significant association\n",
        "    between product satisfaction levels and customer regions.\n",
        "\n",
        "    Parameters:\n",
        "    contingency_table (array-like): 2D array or matrix representing the contingency table.\n",
        "\n",
        "    Returns:\n",
        "    float: Chi-Square statistic.\n",
        "    float: p-value of the test.\n",
        "    \"\"\"\n",
        "    # Perform the Chi-Square test\n",
        "    chi2_stat, p_value, _, _ = stats.chi2_contingency(contingency_table)\n",
        "\n",
        "    return chi2_stat, p_value\n",
        "\n",
        "# Sample data: Product satisfaction levels vs. Customer regions\n",
        "data = np.array([[50, 30, 40, 20], [30, 40, 30, 50], [20, 30, 40, 30]])\n",
        "\n",
        "# Perform Chi-Square test\n",
        "chi2_stat, p_value = chi_square_test(data)\n",
        "\n",
        "print(f\"Chi-Square Statistic: {chi2_stat:.4f}\")\n",
        "print(f\"P-value: {p_value:.4f}\")\n",
        "\n",
        "# Interpretation of the result\n",
        "alpha = 0.05  # Significance level\n",
        "if p_value < alpha:\n",
        "    print(\"There is a significant relationship between product satisfaction levels and customer regions.\")\n",
        "else:\n",
        "    print(\"There is no significant relationship between product satisfaction levels and customer regions.\")\n"
      ],
      "metadata": {
        "colab": {
          "base_uri": "https://localhost:8080/"
        },
        "id": "OpLzIqVdALcJ",
        "outputId": "cd8496fc-8c59-49c8-f936-a8d88fa8b141"
      },
      "execution_count": null,
      "outputs": [
        {
          "output_type": "stream",
          "name": "stdout",
          "text": [
            "Chi-Square Statistic: 27.7771\n",
            "P-value: 0.0001\n",
            "There is a significant relationship between product satisfaction levels and customer regions.\n"
          ]
        }
      ]
    },
    {
      "cell_type": "markdown",
      "source": [
        " 23.) A company implemented an employee training program to improve job performance (Effective, Neutral,\n",
        "Ineffective). After the training, they collected data from a sample of employees and classified them based\n",
        "on their job performance before and after the training. Perform a Chi-Square test to determine if there is a\n",
        "significant difference between job performance levels before and after the training.\n",
        "\n",
        "\n",
        "Sample data:\n",
        "\n",
        "```python\n",
        "\n",
        "# Sample data: Job performance levels before (rows) and after (columns) training\n",
        "\n",
        "data = np.array([[50, 30, 20], [30, 40, 30], [20, 30, 40]])"
      ],
      "metadata": {
        "id": "6F1pxkuMAk96"
      }
    },
    {
      "cell_type": "code",
      "source": [
        "import numpy as np\n",
        "from scipy import stats\n",
        "\n",
        "def chi_square_test(contingency_table):\n",
        "    \"\"\"\n",
        "    Perform a Chi-Square test for independence to determine if there is a significant association\n",
        "    between job performance levels before and after training.\n",
        "\n",
        "    Parameters:\n",
        "    contingency_table (array-like): 2D array or matrix representing the contingency table.\n",
        "\n",
        "    Returns:\n",
        "    float: Chi-Square statistic.\n",
        "    float: p-value of the test.\n",
        "    \"\"\"\n",
        "    # Perform the Chi-Square test\n",
        "    chi2_stat, p_value, _, _ = stats.chi2_contingency(contingency_table)\n",
        "\n",
        "    return chi2_stat, p_value\n",
        "\n",
        "# Sample data: Job performance levels before (rows) and after (columns) training\n",
        "data = np.array([[50, 30, 20], [30, 40, 30], [20, 30, 40]])\n",
        "\n",
        "# Perform Chi-Square test\n",
        "chi2_stat, p_value = chi_square_test(data)\n",
        "\n",
        "print(f\"Chi-Square Statistic: {chi2_stat:.4f}\")\n",
        "print(f\"P-value: {p_value:.4f}\")\n",
        "\n",
        "# Interpretation of the result\n",
        "alpha = 0.05  # Significance level\n",
        "if p_value < alpha:\n",
        "    print(\"There is a significant difference in job performance levels before and after the training.\")\n",
        "else:\n",
        "    print(\"There is no significant difference in job performance levels before and after the training.\")\n"
      ],
      "metadata": {
        "colab": {
          "base_uri": "https://localhost:8080/"
        },
        "id": "CxbTidcsAjx6",
        "outputId": "f4086cda-7edb-41ae-c6d7-72e8373acadc"
      },
      "execution_count": null,
      "outputs": [
        {
          "output_type": "stream",
          "name": "stdout",
          "text": [
            "Chi-Square Statistic: 22.1617\n",
            "P-value: 0.0002\n",
            "There is a significant difference in job performance levels before and after the training.\n"
          ]
        }
      ]
    },
    {
      "cell_type": "markdown",
      "source": [
        " 24.) A company produces three different versions of a product: Standard, Premium, and Deluxe. The\n",
        "company wants to determine if there is a significant difference in customer satisfaction scores among the\n",
        "three product versions. They conducted a survey and collected customer satisfaction scores for each\n",
        "version from a random sample of customers. Perform an ANOVA test to determine if there is a significant\n",
        "difference in customer satisfaction scores.\n",
        "\n",
        "\n",
        "  Use the following data:\n",
        "\n",
        "  ```python\n",
        "\n",
        "  # Sample data: Customer satisfaction scores for each product version\n",
        "\n",
        "  standard_scores = [80, 85, 90, 78, 88, 82, 92, 78, 85, 87]\n",
        "\n",
        "  premium_scores = [90, 92, 88, 92, 95, 91, 96, 93, 89, 93]\n",
        "\n",
        "  deluxe_scores = [95, 98, 92, 97, 96, 94, 98, 97, 92, 99]"
      ],
      "metadata": {
        "id": "YwqZVq_oA2Zw"
      }
    },
    {
      "cell_type": "code",
      "source": [
        "import numpy as np\n",
        "from scipy import stats\n",
        "\n",
        "def anova_test(*args):\n",
        "    \"\"\"\n",
        "    Perform a one-way ANOVA test to determine if there is a significant difference in means\n",
        "    among multiple groups.\n",
        "\n",
        "    Parameters:\n",
        "    *args: Variable length argument list, where each argument is a list/array of scores for a group.\n",
        "\n",
        "    Returns:\n",
        "    float: F-statistic.\n",
        "    float: p-value of the test.\n",
        "    \"\"\"\n",
        "    # Perform the one-way ANOVA test\n",
        "    f_stat, p_value = stats.f_oneway(*args)\n",
        "\n",
        "    return f_stat, p_value\n",
        "\n",
        "# Sample data: Customer satisfaction scores for each product version\n",
        "standard_scores = [80, 85, 90, 78, 88, 82, 92, 78, 85, 87]\n",
        "premium_scores = [90, 92, 88, 92, 95, 91, 96, 93, 89, 93]\n",
        "deluxe_scores = [95, 98, 92, 97, 96, 94, 98, 97, 92, 99]\n",
        "\n",
        "# Perform ANOVA test\n",
        "f_stat, p_value = anova_test(standard_scores, premium_scores, deluxe_scores)\n",
        "\n",
        "print(f\"F-Statistic: {f_stat:.4f}\")\n",
        "print(f\"P-value: {p_value:.4f}\")\n",
        "\n",
        "# Interpretation of the result\n",
        "alpha = 0.05  # Significance level\n",
        "if p_value < alpha:\n",
        "    print(\"There is a significant difference in customer satisfaction scores among the three product versions.\")\n",
        "else:\n",
        "    print(\"There is no significant difference in customer satisfaction scores among the three product versions.\")\n"
      ],
      "metadata": {
        "colab": {
          "base_uri": "https://localhost:8080/"
        },
        "id": "FNYDwXuRA0k6",
        "outputId": "8a25104b-545a-466a-fdcb-7fca93b78e76"
      },
      "execution_count": null,
      "outputs": [
        {
          "output_type": "stream",
          "name": "stdout",
          "text": [
            "F-Statistic: 27.0356\n",
            "P-value: 0.0000\n",
            "There is a significant difference in customer satisfaction scores among the three product versions.\n"
          ]
        }
      ]
    },
    {
      "cell_type": "code",
      "source": [],
      "metadata": {
        "id": "O7AH4Nx1BNjY"
      },
      "execution_count": null,
      "outputs": []
    }
  ]
}